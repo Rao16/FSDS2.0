{
 "cells": [
  {
   "cell_type": "raw",
   "id": "a2a2153b",
   "metadata": {},
   "source": [
    "Variables: It is an entity that helps to hold or store a data into your main memory."
   ]
  },
  {
   "cell_type": "raw",
   "id": "18c71d09",
   "metadata": {},
   "source": [
    "Complex number: It is a combination of real and imaginary number."
   ]
  },
  {
   "cell_type": "code",
   "execution_count": 4,
   "id": "1603eb38",
   "metadata": {},
   "outputs": [],
   "source": [
    "a = True"
   ]
  },
  {
   "cell_type": "code",
   "execution_count": 5,
   "id": "2013f375",
   "metadata": {},
   "outputs": [
    {
     "data": {
      "text/plain": [
       "bool"
      ]
     },
     "execution_count": 5,
     "metadata": {},
     "output_type": "execute_result"
    }
   ],
   "source": [
    "type(a)"
   ]
  },
  {
   "cell_type": "code",
   "execution_count": 5,
   "id": "67c15930",
   "metadata": {},
   "outputs": [],
   "source": [
    "a = 434454534\n",
    "b = 8+9j\n",
    "c = \"suraj\"\n",
    "d = False\n",
    "e = 897.90"
   ]
  },
  {
   "cell_type": "code",
   "execution_count": 6,
   "id": "a35891aa",
   "metadata": {},
   "outputs": [
    {
     "data": {
      "text/plain": [
       "9.0"
      ]
     },
     "execution_count": 6,
     "metadata": {},
     "output_type": "execute_result"
    }
   ],
   "source": [
    "b.imag"
   ]
  },
  {
   "cell_type": "code",
   "execution_count": 7,
   "id": "1f0250b1",
   "metadata": {},
   "outputs": [
    {
     "data": {
      "text/plain": [
       "8.0"
      ]
     },
     "execution_count": 7,
     "metadata": {},
     "output_type": "execute_result"
    }
   ],
   "source": [
    "b.real"
   ]
  },
  {
   "cell_type": "code",
   "execution_count": 8,
   "id": "b2577544",
   "metadata": {},
   "outputs": [
    {
     "data": {
      "text/plain": [
       "'suraj434454534'"
      ]
     },
     "execution_count": 8,
     "metadata": {},
     "output_type": "execute_result"
    }
   ],
   "source": [
    "c + str(a)"
   ]
  },
  {
   "cell_type": "code",
   "execution_count": 1,
   "id": "20a35a48",
   "metadata": {},
   "outputs": [
    {
     "name": "stdout",
     "output_type": "stream",
     "text": [
      "kjnbsdjkfbsljk\n"
     ]
    },
    {
     "data": {
      "text/plain": [
       "'kjnbsdjkfbsljk'"
      ]
     },
     "execution_count": 1,
     "metadata": {},
     "output_type": "execute_result"
    }
   ],
   "source": [
    "input ()"
   ]
  },
  {
   "cell_type": "code",
   "execution_count": 3,
   "id": "e2702dc4",
   "metadata": {},
   "outputs": [
    {
     "name": "stdout",
     "output_type": "stream",
     "text": [
      "453434\n"
     ]
    }
   ],
   "source": [
    "a = input()"
   ]
  },
  {
   "cell_type": "code",
   "execution_count": 4,
   "id": "1c1caf51",
   "metadata": {},
   "outputs": [
    {
     "data": {
      "text/plain": [
       "'453434'"
      ]
     },
     "execution_count": 4,
     "metadata": {},
     "output_type": "execute_result"
    }
   ],
   "source": [
    "a"
   ]
  },
  {
   "cell_type": "code",
   "execution_count": 5,
   "id": "bd4a9c9e",
   "metadata": {},
   "outputs": [],
   "source": [
    "b = 45"
   ]
  },
  {
   "cell_type": "code",
   "execution_count": 6,
   "id": "868ed7df",
   "metadata": {},
   "outputs": [
    {
     "ename": "TypeError",
     "evalue": "can only concatenate str (not \"int\") to str",
     "output_type": "error",
     "traceback": [
      "\u001b[1;31m---------------------------------------------------------------------------\u001b[0m",
      "\u001b[1;31mTypeError\u001b[0m                                 Traceback (most recent call last)",
      "\u001b[1;32m~\\AppData\\Local\\Temp/ipykernel_24364/3553919051.py\u001b[0m in \u001b[0;36m<module>\u001b[1;34m\u001b[0m\n\u001b[1;32m----> 1\u001b[1;33m \u001b[0ma\u001b[0m\u001b[1;33m+\u001b[0m\u001b[0mb\u001b[0m\u001b[1;33m\u001b[0m\u001b[1;33m\u001b[0m\u001b[0m\n\u001b[0m",
      "\u001b[1;31mTypeError\u001b[0m: can only concatenate str (not \"int\") to str"
     ]
    }
   ],
   "source": [
    "a+b"
   ]
  },
  {
   "cell_type": "code",
   "execution_count": 7,
   "id": "319c5ecb",
   "metadata": {},
   "outputs": [
    {
     "data": {
      "text/plain": [
       "453479"
      ]
     },
     "execution_count": 7,
     "metadata": {},
     "output_type": "execute_result"
    }
   ],
   "source": [
    "int(a)+b"
   ]
  },
  {
   "cell_type": "code",
   "execution_count": 8,
   "id": "445c3cc6",
   "metadata": {},
   "outputs": [],
   "source": [
    "s = \"Suraj\""
   ]
  },
  {
   "cell_type": "code",
   "execution_count": 9,
   "id": "b145364d",
   "metadata": {},
   "outputs": [
    {
     "data": {
      "text/plain": [
       "str"
      ]
     },
     "execution_count": 9,
     "metadata": {},
     "output_type": "execute_result"
    }
   ],
   "source": [
    "type(s)"
   ]
  },
  {
   "cell_type": "code",
   "execution_count": 10,
   "id": "dcea0489",
   "metadata": {},
   "outputs": [
    {
     "data": {
      "text/plain": [
       "'S'"
      ]
     },
     "execution_count": 10,
     "metadata": {},
     "output_type": "execute_result"
    }
   ],
   "source": [
    "s[0]"
   ]
  },
  {
   "cell_type": "code",
   "execution_count": 11,
   "id": "414dbe8b",
   "metadata": {},
   "outputs": [
    {
     "data": {
      "text/plain": [
       "'u'"
      ]
     },
     "execution_count": 11,
     "metadata": {},
     "output_type": "execute_result"
    }
   ],
   "source": [
    "s[1]"
   ]
  },
  {
   "cell_type": "code",
   "execution_count": 12,
   "id": "c5ac43ba",
   "metadata": {},
   "outputs": [
    {
     "data": {
      "text/plain": [
       "'a'"
      ]
     },
     "execution_count": 12,
     "metadata": {},
     "output_type": "execute_result"
    }
   ],
   "source": [
    "s[3]"
   ]
  },
  {
   "cell_type": "code",
   "execution_count": 13,
   "id": "3afb2078",
   "metadata": {},
   "outputs": [
    {
     "data": {
      "text/plain": [
       "'j'"
      ]
     },
     "execution_count": 13,
     "metadata": {},
     "output_type": "execute_result"
    }
   ],
   "source": [
    "s[-1]"
   ]
  },
  {
   "cell_type": "code",
   "execution_count": 14,
   "id": "1b2dd62e",
   "metadata": {},
   "outputs": [
    {
     "data": {
      "text/plain": [
       "'r'"
      ]
     },
     "execution_count": 14,
     "metadata": {},
     "output_type": "execute_result"
    }
   ],
   "source": [
    "s[-3]"
   ]
  },
  {
   "cell_type": "code",
   "execution_count": 15,
   "id": "e044f3a4",
   "metadata": {},
   "outputs": [],
   "source": [
    "a = \"my name is Suraj\""
   ]
  },
  {
   "cell_type": "code",
   "execution_count": 16,
   "id": "00867d17",
   "metadata": {},
   "outputs": [
    {
     "data": {
      "text/plain": [
       "'m'"
      ]
     },
     "execution_count": 16,
     "metadata": {},
     "output_type": "execute_result"
    }
   ],
   "source": [
    "a[0]"
   ]
  },
  {
   "cell_type": "code",
   "execution_count": 17,
   "id": "c5740851",
   "metadata": {},
   "outputs": [
    {
     "ename": "IndexError",
     "evalue": "string index out of range",
     "output_type": "error",
     "traceback": [
      "\u001b[1;31m---------------------------------------------------------------------------\u001b[0m",
      "\u001b[1;31mIndexError\u001b[0m                                Traceback (most recent call last)",
      "\u001b[1;32m~\\AppData\\Local\\Temp/ipykernel_24364/3418884185.py\u001b[0m in \u001b[0;36m<module>\u001b[1;34m\u001b[0m\n\u001b[1;32m----> 1\u001b[1;33m \u001b[0ma\u001b[0m\u001b[1;33m[\u001b[0m\u001b[1;36m100\u001b[0m\u001b[1;33m]\u001b[0m\u001b[1;33m\u001b[0m\u001b[1;33m\u001b[0m\u001b[0m\n\u001b[0m",
      "\u001b[1;31mIndexError\u001b[0m: string index out of range"
     ]
    }
   ],
   "source": [
    "a[100]"
   ]
  },
  {
   "cell_type": "code",
   "execution_count": 18,
   "id": "227825d0",
   "metadata": {},
   "outputs": [
    {
     "data": {
      "text/plain": [
       "'my name is'"
      ]
     },
     "execution_count": 18,
     "metadata": {},
     "output_type": "execute_result"
    }
   ],
   "source": [
    "a[0:10]"
   ]
  },
  {
   "cell_type": "code",
   "execution_count": 19,
   "id": "08f63500",
   "metadata": {},
   "outputs": [],
   "source": [
    "b = \"ineuron\""
   ]
  },
  {
   "cell_type": "code",
   "execution_count": 20,
   "id": "a6dcccc3",
   "metadata": {},
   "outputs": [
    {
     "data": {
      "text/plain": [
       "'ine'"
      ]
     },
     "execution_count": 20,
     "metadata": {},
     "output_type": "execute_result"
    }
   ],
   "source": [
    "b[0:3]"
   ]
  },
  {
   "cell_type": "code",
   "execution_count": 21,
   "id": "02f2d147",
   "metadata": {},
   "outputs": [
    {
     "data": {
      "text/plain": [
       "'ineuron'"
      ]
     },
     "execution_count": 21,
     "metadata": {},
     "output_type": "execute_result"
    }
   ],
   "source": [
    "b[0:300]"
   ]
  },
  {
   "cell_type": "code",
   "execution_count": 22,
   "id": "10078043",
   "metadata": {},
   "outputs": [
    {
     "data": {
      "text/plain": [
       "'n'"
      ]
     },
     "execution_count": 22,
     "metadata": {},
     "output_type": "execute_result"
    }
   ],
   "source": [
    "b[-1]"
   ]
  },
  {
   "cell_type": "code",
   "execution_count": 23,
   "id": "88eb712d",
   "metadata": {},
   "outputs": [
    {
     "ename": "IndexError",
     "evalue": "string index out of range",
     "output_type": "error",
     "traceback": [
      "\u001b[1;31m---------------------------------------------------------------------------\u001b[0m",
      "\u001b[1;31mIndexError\u001b[0m                                Traceback (most recent call last)",
      "\u001b[1;32m~\\AppData\\Local\\Temp/ipykernel_24364/3371902095.py\u001b[0m in \u001b[0;36m<module>\u001b[1;34m\u001b[0m\n\u001b[1;32m----> 1\u001b[1;33m \u001b[0mb\u001b[0m\u001b[1;33m[\u001b[0m\u001b[1;33m-\u001b[0m\u001b[1;36m100\u001b[0m\u001b[1;33m]\u001b[0m\u001b[1;33m\u001b[0m\u001b[1;33m\u001b[0m\u001b[0m\n\u001b[0m",
      "\u001b[1;31mIndexError\u001b[0m: string index out of range"
     ]
    }
   ],
   "source": [
    "b[-100]"
   ]
  },
  {
   "cell_type": "code",
   "execution_count": 29,
   "id": "fa16b2da",
   "metadata": {},
   "outputs": [
    {
     "data": {
      "text/plain": [
       "''"
      ]
     },
     "execution_count": 29,
     "metadata": {},
     "output_type": "execute_result"
    }
   ],
   "source": [
    " b[-1:-4]"
   ]
  },
  {
   "cell_type": "raw",
   "id": "8d391366",
   "metadata": {},
   "source": [
    "\"This above output is due to the conflict positive jump size or step size\""
   ]
  },
  {
   "cell_type": "code",
   "execution_count": 34,
   "id": "dbfadbf8",
   "metadata": {},
   "outputs": [
    {
     "data": {
      "text/plain": [
       "'iern'"
      ]
     },
     "execution_count": 34,
     "metadata": {},
     "output_type": "execute_result"
    }
   ],
   "source": [
    "b[0:300:2]"
   ]
  },
  {
   "cell_type": "code",
   "execution_count": 35,
   "id": "32c684e8",
   "metadata": {},
   "outputs": [
    {
     "data": {
      "text/plain": [
       "''"
      ]
     },
     "execution_count": 35,
     "metadata": {},
     "output_type": "execute_result"
    }
   ],
   "source": [
    "b[0:100:-1]"
   ]
  },
  {
   "cell_type": "code",
   "execution_count": 36,
   "id": "b56ab5c8",
   "metadata": {},
   "outputs": [
    {
     "data": {
      "text/plain": [
       "'nor'"
      ]
     },
     "execution_count": 36,
     "metadata": {},
     "output_type": "execute_result"
    }
   ],
   "source": [
    " b[-1:-4:-1]"
   ]
  },
  {
   "cell_type": "code",
   "execution_count": 37,
   "id": "c11f332f",
   "metadata": {},
   "outputs": [
    {
     "data": {
      "text/plain": [
       "'i'"
      ]
     },
     "execution_count": 37,
     "metadata": {},
     "output_type": "execute_result"
    }
   ],
   "source": [
    "b[0:-10:-1]"
   ]
  },
  {
   "cell_type": "code",
   "execution_count": 38,
   "id": "30ff0233",
   "metadata": {},
   "outputs": [
    {
     "data": {
      "text/plain": [
       "'ineuron'"
      ]
     },
     "execution_count": 38,
     "metadata": {},
     "output_type": "execute_result"
    }
   ],
   "source": [
    "b[::]"
   ]
  },
  {
   "cell_type": "code",
   "execution_count": 39,
   "id": "4efa5bc8",
   "metadata": {},
   "outputs": [
    {
     "data": {
      "text/plain": [
       "'ineuron'"
      ]
     },
     "execution_count": 39,
     "metadata": {},
     "output_type": "execute_result"
    }
   ],
   "source": [
    "b[:8]"
   ]
  },
  {
   "cell_type": "code",
   "execution_count": 40,
   "id": "86e7d00a",
   "metadata": {},
   "outputs": [
    {
     "data": {
      "text/plain": [
       "'ineuron'"
      ]
     },
     "execution_count": 40,
     "metadata": {},
     "output_type": "execute_result"
    }
   ],
   "source": [
    "b[0::]"
   ]
  },
  {
   "cell_type": "code",
   "execution_count": 41,
   "id": "d110780a",
   "metadata": {},
   "outputs": [
    {
     "data": {
      "text/plain": [
       "'aj'"
      ]
     },
     "execution_count": 41,
     "metadata": {},
     "output_type": "execute_result"
    }
   ],
   "source": [
    "a[-2:]"
   ]
  },
  {
   "cell_type": "code",
   "execution_count": 42,
   "id": "39f284e1",
   "metadata": {},
   "outputs": [
    {
     "data": {
      "text/plain": [
       "'o'"
      ]
     },
     "execution_count": 42,
     "metadata": {},
     "output_type": "execute_result"
    }
   ],
   "source": [
    " b[-2:-1]"
   ]
  },
  {
   "cell_type": "code",
   "execution_count": 43,
   "id": "e4507738",
   "metadata": {},
   "outputs": [
    {
     "data": {
      "text/plain": [
       "'my name is Suraj'"
      ]
     },
     "execution_count": 43,
     "metadata": {},
     "output_type": "execute_result"
    }
   ],
   "source": [
    "a"
   ]
  },
  {
   "cell_type": "code",
   "execution_count": 44,
   "id": "f83d5e9e",
   "metadata": {},
   "outputs": [
    {
     "data": {
      "text/plain": [
       "'ineuron'"
      ]
     },
     "execution_count": 44,
     "metadata": {},
     "output_type": "execute_result"
    }
   ],
   "source": [
    "b"
   ]
  },
  {
   "cell_type": "code",
   "execution_count": 45,
   "id": "f8ccb4a4",
   "metadata": {},
   "outputs": [
    {
     "data": {
      "text/plain": [
       "'norueni'"
      ]
     },
     "execution_count": 45,
     "metadata": {},
     "output_type": "execute_result"
    }
   ],
   "source": [
    "b[::-1]"
   ]
  },
  {
   "cell_type": "code",
   "execution_count": 46,
   "id": "bc5e752c",
   "metadata": {},
   "outputs": [
    {
     "data": {
      "text/plain": [
       "'my name is Suraj'"
      ]
     },
     "execution_count": 46,
     "metadata": {},
     "output_type": "execute_result"
    }
   ],
   "source": [
    "a"
   ]
  },
  {
   "cell_type": "code",
   "execution_count": 47,
   "id": "f7052d69",
   "metadata": {},
   "outputs": [
    {
     "data": {
      "text/plain": [
       "'jaruS si eman ym'"
      ]
     },
     "execution_count": 47,
     "metadata": {},
     "output_type": "execute_result"
    }
   ],
   "source": [
    "a[::-1]"
   ]
  },
  {
   "cell_type": "code",
   "execution_count": 48,
   "id": "13977582",
   "metadata": {},
   "outputs": [
    {
     "data": {
      "text/plain": [
       "'S si e'"
      ]
     },
     "execution_count": 48,
     "metadata": {},
     "output_type": "execute_result"
    }
   ],
   "source": [
    "a[-5:5:-1]"
   ]
  },
  {
   "cell_type": "code",
   "execution_count": 49,
   "id": "50467e5e",
   "metadata": {},
   "outputs": [
    {
     "data": {
      "text/plain": [
       "'my name is Suraj'"
      ]
     },
     "execution_count": 49,
     "metadata": {},
     "output_type": "execute_result"
    }
   ],
   "source": [
    "a[0:100]"
   ]
  },
  {
   "cell_type": "code",
   "execution_count": 50,
   "id": "d6f866ba",
   "metadata": {},
   "outputs": [
    {
     "data": {
      "text/plain": [
       "'SurajSurajSuraj'"
      ]
     },
     "execution_count": 50,
     "metadata": {},
     "output_type": "execute_result"
    }
   ],
   "source": [
    "\"Suraj\"*3"
   ]
  },
  {
   "cell_type": "code",
   "execution_count": 52,
   "id": "99428099",
   "metadata": {},
   "outputs": [
    {
     "data": {
      "text/plain": [
       "'Suraj Kumar'"
      ]
     },
     "execution_count": 52,
     "metadata": {},
     "output_type": "execute_result"
    }
   ],
   "source": [
    "\"Suraj\" + \" Kumar\""
   ]
  },
  {
   "cell_type": "code",
   "execution_count": 53,
   "id": "216f5340",
   "metadata": {},
   "outputs": [
    {
     "data": {
      "text/plain": [
       "'my name is Suraj'"
      ]
     },
     "execution_count": 53,
     "metadata": {},
     "output_type": "execute_result"
    }
   ],
   "source": [
    "a"
   ]
  },
  {
   "cell_type": "code",
   "execution_count": 54,
   "id": "096aae52",
   "metadata": {},
   "outputs": [
    {
     "data": {
      "text/plain": [
       "16"
      ]
     },
     "execution_count": 54,
     "metadata": {},
     "output_type": "execute_result"
    }
   ],
   "source": [
    "len(a)"
   ]
  },
  {
   "cell_type": "code",
   "execution_count": 55,
   "id": "fb15896e",
   "metadata": {},
   "outputs": [
    {
     "data": {
      "text/plain": [
       "4"
      ]
     },
     "execution_count": 55,
     "metadata": {},
     "output_type": "execute_result"
    }
   ],
   "source": [
    "a.find(\"a\")"
   ]
  },
  {
   "cell_type": "code",
   "execution_count": 56,
   "id": "5cb12829",
   "metadata": {},
   "outputs": [
    {
     "data": {
      "text/plain": [
       "-1"
      ]
     },
     "execution_count": 56,
     "metadata": {},
     "output_type": "execute_result"
    }
   ],
   "source": [
    "a.find(\"ia\")"
   ]
  },
  {
   "cell_type": "code",
   "execution_count": 57,
   "id": "5c802ac5",
   "metadata": {},
   "outputs": [
    {
     "data": {
      "text/plain": [
       "13"
      ]
     },
     "execution_count": 57,
     "metadata": {},
     "output_type": "execute_result"
    }
   ],
   "source": [
    "a.find(\"ra\")"
   ]
  },
  {
   "cell_type": "code",
   "execution_count": 59,
   "id": "065c7cc6",
   "metadata": {},
   "outputs": [
    {
     "data": {
      "text/plain": [
       "2"
      ]
     },
     "execution_count": 59,
     "metadata": {},
     "output_type": "execute_result"
    }
   ],
   "source": [
    "a.count(\"a\")"
   ]
  },
  {
   "cell_type": "code",
   "execution_count": 62,
   "id": "04c58a77",
   "metadata": {},
   "outputs": [
    {
     "data": {
      "text/plain": [
       "['my', 'name', 'is', 'Suraj']"
      ]
     },
     "execution_count": 62,
     "metadata": {},
     "output_type": "execute_result"
    }
   ],
   "source": [
    "a.split()"
   ]
  },
  {
   "cell_type": "code",
   "execution_count": 63,
   "id": "441618f1",
   "metadata": {},
   "outputs": [
    {
     "data": {
      "text/plain": [
       "list"
      ]
     },
     "execution_count": 63,
     "metadata": {},
     "output_type": "execute_result"
    }
   ],
   "source": [
    "type(a.split())"
   ]
  },
  {
   "cell_type": "code",
   "execution_count": 64,
   "id": "a3f9345b",
   "metadata": {},
   "outputs": [
    {
     "data": {
      "text/plain": [
       "['my n', 'me is Sur', 'j']"
      ]
     },
     "execution_count": 64,
     "metadata": {},
     "output_type": "execute_result"
    }
   ],
   "source": [
    "a.split(\"a\")"
   ]
  },
  {
   "cell_type": "code",
   "execution_count": 65,
   "id": "49c31f4f",
   "metadata": {},
   "outputs": [
    {
     "data": {
      "text/plain": [
       "['my ', 'me is Suraj']"
      ]
     },
     "execution_count": 65,
     "metadata": {},
     "output_type": "execute_result"
    }
   ],
   "source": [
    "a.split(\"na\")"
   ]
  },
  {
   "cell_type": "code",
   "execution_count": 66,
   "id": "2c7204af",
   "metadata": {},
   "outputs": [
    {
     "data": {
      "text/plain": [
       "'my name is Suraj'"
      ]
     },
     "execution_count": 66,
     "metadata": {},
     "output_type": "execute_result"
    }
   ],
   "source": [
    "a"
   ]
  },
  {
   "cell_type": "code",
   "execution_count": 67,
   "id": "bf4438a7",
   "metadata": {},
   "outputs": [
    {
     "data": {
      "text/plain": [
       "'MY NAME IS SURAJ'"
      ]
     },
     "execution_count": 67,
     "metadata": {},
     "output_type": "execute_result"
    }
   ],
   "source": [
    "a.upper()"
   ]
  },
  {
   "cell_type": "code",
   "execution_count": 68,
   "id": "820c82bf",
   "metadata": {},
   "outputs": [],
   "source": [
    "s = \"sUraj\""
   ]
  },
  {
   "cell_type": "code",
   "execution_count": 69,
   "id": "07b5252b",
   "metadata": {},
   "outputs": [
    {
     "data": {
      "text/plain": [
       "'SuRAJ'"
      ]
     },
     "execution_count": 69,
     "metadata": {},
     "output_type": "execute_result"
    }
   ],
   "source": [
    "s.swapcase()"
   ]
  },
  {
   "cell_type": "code",
   "execution_count": 70,
   "id": "cf068f88",
   "metadata": {},
   "outputs": [
    {
     "data": {
      "text/plain": [
       "'Suraj'"
      ]
     },
     "execution_count": 70,
     "metadata": {},
     "output_type": "execute_result"
    }
   ],
   "source": [
    "s.title()"
   ]
  },
  {
   "cell_type": "code",
   "execution_count": 71,
   "id": "6d97bfd7",
   "metadata": {},
   "outputs": [
    {
     "data": {
      "text/plain": [
       "'My Name Is Suraj'"
      ]
     },
     "execution_count": 71,
     "metadata": {},
     "output_type": "execute_result"
    }
   ],
   "source": [
    "a.title()"
   ]
  },
  {
   "cell_type": "code",
   "execution_count": 72,
   "id": "77454a6d",
   "metadata": {},
   "outputs": [
    {
     "data": {
      "text/plain": [
       "'My name is suraj'"
      ]
     },
     "execution_count": 72,
     "metadata": {},
     "output_type": "execute_result"
    }
   ],
   "source": [
    "a.capitalize()"
   ]
  },
  {
   "cell_type": "code",
   "execution_count": 75,
   "id": "f3d5cfbc",
   "metadata": {},
   "outputs": [],
   "source": [
    "b = \"Suraj\"\n",
    "c = \"iNeuron\""
   ]
  },
  {
   "cell_type": "code",
   "execution_count": 76,
   "id": "356a71d2",
   "metadata": {},
   "outputs": [
    {
     "data": {
      "text/plain": [
       "'iSurajNSurajeSurajuSurajrSurajoSurajn'"
      ]
     },
     "execution_count": 76,
     "metadata": {},
     "output_type": "execute_result"
    }
   ],
   "source": [
    "b.join(c)"
   ]
  },
  {
   "cell_type": "code",
   "execution_count": 77,
   "id": "d874c781",
   "metadata": {},
   "outputs": [
    {
     "data": {
      "text/plain": [
       "'S u r a j'"
      ]
     },
     "execution_count": 77,
     "metadata": {},
     "output_type": "execute_result"
    }
   ],
   "source": [
    "\" \".join(\"Suraj\")"
   ]
  },
  {
   "cell_type": "code",
   "execution_count": 80,
   "id": "4c6fa6a4",
   "metadata": {},
   "outputs": [
    {
     "name": "stdout",
     "output_type": "stream",
     "text": [
      "j\n",
      "a\n",
      "r\n",
      "u\n",
      "S\n"
     ]
    }
   ],
   "source": [
    "for i in reversed(\"Suraj\"):\n",
    "    print(i)"
   ]
  },
  {
   "cell_type": "code",
   "execution_count": 81,
   "id": "404b5740",
   "metadata": {},
   "outputs": [],
   "source": [
    "s = \" Suraj \""
   ]
  },
  {
   "cell_type": "code",
   "execution_count": 82,
   "id": "b4383d95",
   "metadata": {},
   "outputs": [
    {
     "data": {
      "text/plain": [
       "' Suraj'"
      ]
     },
     "execution_count": 82,
     "metadata": {},
     "output_type": "execute_result"
    }
   ],
   "source": [
    "s.rstrip()"
   ]
  },
  {
   "cell_type": "code",
   "execution_count": 83,
   "id": "545504b0",
   "metadata": {},
   "outputs": [
    {
     "data": {
      "text/plain": [
       "'Suraj '"
      ]
     },
     "execution_count": 83,
     "metadata": {},
     "output_type": "execute_result"
    }
   ],
   "source": [
    "s.lstrip()"
   ]
  },
  {
   "cell_type": "code",
   "execution_count": 84,
   "id": "3783db7f",
   "metadata": {},
   "outputs": [
    {
     "data": {
      "text/plain": [
       "'Suraj'"
      ]
     },
     "execution_count": 84,
     "metadata": {},
     "output_type": "execute_result"
    }
   ],
   "source": [
    "s.strip()"
   ]
  },
  {
   "cell_type": "code",
   "execution_count": 86,
   "id": "ce66a3f9",
   "metadata": {},
   "outputs": [
    {
     "data": {
      "text/plain": [
       "' Sxyzraj '"
      ]
     },
     "execution_count": 86,
     "metadata": {},
     "output_type": "execute_result"
    }
   ],
   "source": [
    "s.replace(\"u\", \"xyz\")"
   ]
  },
  {
   "cell_type": "code",
   "execution_count": 87,
   "id": "59ef90f0",
   "metadata": {},
   "outputs": [
    {
     "data": {
      "text/plain": [
       "'Suraj   Kumar'"
      ]
     },
     "execution_count": 87,
     "metadata": {},
     "output_type": "execute_result"
    }
   ],
   "source": [
    "\"Suraj\\tKumar\".expandtabs()"
   ]
  },
  {
   "cell_type": "code",
   "execution_count": 88,
   "id": "63485c95",
   "metadata": {},
   "outputs": [
    {
     "data": {
      "text/plain": [
       "'################ Suraj #################'"
      ]
     },
     "execution_count": 88,
     "metadata": {},
     "output_type": "execute_result"
    }
   ],
   "source": [
    "s.center(40, \"#\")"
   ]
  },
  {
   "cell_type": "code",
   "execution_count": 14,
   "id": "bdf34be8",
   "metadata": {},
   "outputs": [],
   "source": [
    "s = \"SURAJ\""
   ]
  },
  {
   "cell_type": "code",
   "execution_count": 15,
   "id": "a47c5020",
   "metadata": {},
   "outputs": [
    {
     "data": {
      "text/plain": [
       "True"
      ]
     },
     "execution_count": 15,
     "metadata": {},
     "output_type": "execute_result"
    }
   ],
   "source": [
    "s.isupper()"
   ]
  },
  {
   "cell_type": "code",
   "execution_count": 16,
   "id": "97e5d81c",
   "metadata": {},
   "outputs": [
    {
     "data": {
      "text/plain": [
       "False"
      ]
     },
     "execution_count": 16,
     "metadata": {},
     "output_type": "execute_result"
    }
   ],
   "source": [
    "s.islower()"
   ]
  },
  {
   "cell_type": "code",
   "execution_count": 17,
   "id": "dde652d8",
   "metadata": {},
   "outputs": [
    {
     "data": {
      "text/plain": [
       "False"
      ]
     },
     "execution_count": 17,
     "metadata": {},
     "output_type": "execute_result"
    }
   ],
   "source": [
    "s.isspace()"
   ]
  },
  {
   "cell_type": "code",
   "execution_count": 19,
   "id": "1f5fef03",
   "metadata": {},
   "outputs": [
    {
     "data": {
      "text/plain": [
       "True"
      ]
     },
     "execution_count": 19,
     "metadata": {},
     "output_type": "execute_result"
    }
   ],
   "source": [
    " s.endswith('J')"
   ]
  },
  {
   "cell_type": "code",
   "execution_count": 20,
   "id": "00c720d0",
   "metadata": {},
   "outputs": [
    {
     "data": {
      "text/plain": [
       "True"
      ]
     },
     "execution_count": 20,
     "metadata": {},
     "output_type": "execute_result"
    }
   ],
   "source": [
    "s.startswith('S')"
   ]
  },
  {
   "cell_type": "code",
   "execution_count": 21,
   "id": "a26aa2ba",
   "metadata": {},
   "outputs": [
    {
     "data": {
      "text/plain": [
       "False"
      ]
     },
     "execution_count": 21,
     "metadata": {},
     "output_type": "execute_result"
    }
   ],
   "source": [
    "s.istitle()"
   ]
  },
  {
   "cell_type": "code",
   "execution_count": 22,
   "id": "2ae304ea",
   "metadata": {},
   "outputs": [
    {
     "data": {
      "text/plain": [
       "b'SURAJ'"
      ]
     },
     "execution_count": 22,
     "metadata": {},
     "output_type": "execute_result"
    }
   ],
   "source": [
    "s.encode()"
   ]
  },
  {
   "cell_type": "code",
   "execution_count": 23,
   "id": "9d678099",
   "metadata": {},
   "outputs": [],
   "source": [
    "l = [\"Suraj\", \"Kumar\", 34553, 4+6j, True, 34353.67]"
   ]
  },
  {
   "cell_type": "code",
   "execution_count": 24,
   "id": "2e4c7375",
   "metadata": {},
   "outputs": [
    {
     "data": {
      "text/plain": [
       "list"
      ]
     },
     "execution_count": 24,
     "metadata": {},
     "output_type": "execute_result"
    }
   ],
   "source": [
    "type(l)"
   ]
  },
  {
   "cell_type": "code",
   "execution_count": 25,
   "id": "d13ac667",
   "metadata": {},
   "outputs": [
    {
     "data": {
      "text/plain": [
       "'Suraj'"
      ]
     },
     "execution_count": 25,
     "metadata": {},
     "output_type": "execute_result"
    }
   ],
   "source": [
    "l[0]"
   ]
  },
  {
   "cell_type": "code",
   "execution_count": 26,
   "id": "9c30e6bc",
   "metadata": {},
   "outputs": [
    {
     "data": {
      "text/plain": [
       "34353.67"
      ]
     },
     "execution_count": 26,
     "metadata": {},
     "output_type": "execute_result"
    }
   ],
   "source": [
    "l[-1]"
   ]
  },
  {
   "cell_type": "code",
   "execution_count": 27,
   "id": "cfe3bb46",
   "metadata": {},
   "outputs": [
    {
     "data": {
      "text/plain": [
       "'Kumar'"
      ]
     },
     "execution_count": 27,
     "metadata": {},
     "output_type": "execute_result"
    }
   ],
   "source": [
    "l[-5]"
   ]
  },
  {
   "cell_type": "code",
   "execution_count": 28,
   "id": "576df4f7",
   "metadata": {},
   "outputs": [
    {
     "data": {
      "text/plain": [
       "['Suraj', 'Kumar', 34553, (4+6j)]"
      ]
     },
     "execution_count": 28,
     "metadata": {},
     "output_type": "execute_result"
    }
   ],
   "source": [
    "l[0:4]"
   ]
  },
  {
   "cell_type": "code",
   "execution_count": 30,
   "id": "40485772",
   "metadata": {},
   "outputs": [
    {
     "data": {
      "text/plain": [
       "[34353.67, True, (4+6j), 34553, 'Kumar', 'Suraj']"
      ]
     },
     "execution_count": 30,
     "metadata": {},
     "output_type": "execute_result"
    }
   ],
   "source": [
    "l[::-1]"
   ]
  },
  {
   "cell_type": "code",
   "execution_count": 31,
   "id": "0d1c11ea",
   "metadata": {},
   "outputs": [
    {
     "data": {
      "text/plain": [
       "[34353.67]"
      ]
     },
     "execution_count": 31,
     "metadata": {},
     "output_type": "execute_result"
    }
   ],
   "source": [
    "l[-1:6]"
   ]
  },
  {
   "cell_type": "code",
   "execution_count": 32,
   "id": "aaa1d5d1",
   "metadata": {},
   "outputs": [
    {
     "data": {
      "text/plain": [
       "'Suraj'"
      ]
     },
     "execution_count": 32,
     "metadata": {},
     "output_type": "execute_result"
    }
   ],
   "source": [
    "l[0] "
   ]
  },
  {
   "cell_type": "code",
   "execution_count": 34,
   "id": "92a59aa2",
   "metadata": {},
   "outputs": [
    {
     "data": {
      "text/plain": [
       "str"
      ]
     },
     "execution_count": 34,
     "metadata": {},
     "output_type": "execute_result"
    }
   ],
   "source": [
    "type(l[0])"
   ]
  },
  {
   "cell_type": "code",
   "execution_count": 35,
   "id": "89486b76",
   "metadata": {},
   "outputs": [
    {
     "data": {
      "text/plain": [
       "'u'"
      ]
     },
     "execution_count": 35,
     "metadata": {},
     "output_type": "execute_result"
    }
   ],
   "source": [
    "l[0][1]"
   ]
  },
  {
   "cell_type": "code",
   "execution_count": 36,
   "id": "6091bb5f",
   "metadata": {},
   "outputs": [
    {
     "data": {
      "text/plain": [
       "(4+6j)"
      ]
     },
     "execution_count": 36,
     "metadata": {},
     "output_type": "execute_result"
    }
   ],
   "source": [
    "l[3]"
   ]
  },
  {
   "cell_type": "code",
   "execution_count": 38,
   "id": "a0ad4e33",
   "metadata": {},
   "outputs": [
    {
     "data": {
      "text/plain": [
       "4.0"
      ]
     },
     "execution_count": 38,
     "metadata": {},
     "output_type": "execute_result"
    }
   ],
   "source": [
    "l[3].real"
   ]
  },
  {
   "cell_type": "code",
   "execution_count": 39,
   "id": "a847beff",
   "metadata": {},
   "outputs": [
    {
     "data": {
      "text/plain": [
       "6.0"
      ]
     },
     "execution_count": 39,
     "metadata": {},
     "output_type": "execute_result"
    }
   ],
   "source": [
    "l[3].imag"
   ]
  },
  {
   "cell_type": "code",
   "execution_count": 40,
   "id": "f6f1d9a2",
   "metadata": {},
   "outputs": [],
   "source": [
    "l1 = [\"Suraj\", \"Kumar\", 356456]\n",
    "l2 = [\"xyz\", \"pqr\", 3479.24]"
   ]
  },
  {
   "cell_type": "code",
   "execution_count": 41,
   "id": "99acdac8",
   "metadata": {},
   "outputs": [
    {
     "data": {
      "text/plain": [
       "['Suraj', 'Kumar', 356456, 'xyz', 'pqr', 3479.24]"
      ]
     },
     "execution_count": 41,
     "metadata": {},
     "output_type": "execute_result"
    }
   ],
   "source": [
    "l1+l2"
   ]
  },
  {
   "cell_type": "code",
   "execution_count": 43,
   "id": "406fdcd3",
   "metadata": {},
   "outputs": [
    {
     "data": {
      "text/plain": [
       "['Suraj', 'Kumar', 356456, 'Surya']"
      ]
     },
     "execution_count": 43,
     "metadata": {},
     "output_type": "execute_result"
    }
   ],
   "source": [
    "l1 + [\"Surya\"]"
   ]
  },
  {
   "cell_type": "code",
   "execution_count": 44,
   "id": "ef3940b1",
   "metadata": {},
   "outputs": [
    {
     "data": {
      "text/plain": [
       "['Suraj', 'Kumar', 356456, 'Suraj', 'Kumar', 356456]"
      ]
     },
     "execution_count": 44,
     "metadata": {},
     "output_type": "execute_result"
    }
   ],
   "source": [
    "l1*2"
   ]
  },
  {
   "cell_type": "code",
   "execution_count": 45,
   "id": "99fba0a4",
   "metadata": {},
   "outputs": [],
   "source": [
    "l1[0] = \"Surya\""
   ]
  },
  {
   "cell_type": "code",
   "execution_count": 46,
   "id": "f76a86bf",
   "metadata": {},
   "outputs": [
    {
     "data": {
      "text/plain": [
       "['Surya', 'Kumar', 356456]"
      ]
     },
     "execution_count": 46,
     "metadata": {},
     "output_type": "execute_result"
    }
   ],
   "source": [
    "l1"
   ]
  },
  {
   "cell_type": "code",
   "execution_count": 51,
   "id": "a190a1be",
   "metadata": {},
   "outputs": [
    {
     "data": {
      "text/plain": [
       "'Sumar'"
      ]
     },
     "execution_count": 51,
     "metadata": {},
     "output_type": "execute_result"
    }
   ],
   "source": [
    "l1[1].replace(\"K\", \"S\")"
   ]
  },
  {
   "cell_type": "code",
   "execution_count": 50,
   "id": "b889affd",
   "metadata": {},
   "outputs": [
    {
     "data": {
      "text/plain": [
       "['Surya', 'Kumar', 356456]"
      ]
     },
     "execution_count": 50,
     "metadata": {},
     "output_type": "execute_result"
    }
   ],
   "source": [
    "l1"
   ]
  },
  {
   "cell_type": "code",
   "execution_count": 52,
   "id": "c7f95be5",
   "metadata": {},
   "outputs": [
    {
     "data": {
      "text/plain": [
       "3"
      ]
     },
     "execution_count": 52,
     "metadata": {},
     "output_type": "execute_result"
    }
   ],
   "source": [
    "len(l1)"
   ]
  },
  {
   "cell_type": "code",
   "execution_count": 53,
   "id": "87dabf54",
   "metadata": {},
   "outputs": [
    {
     "data": {
      "text/plain": [
       "True"
      ]
     },
     "execution_count": 53,
     "metadata": {},
     "output_type": "execute_result"
    }
   ],
   "source": [
    "'Kumar' in l1"
   ]
  },
  {
   "cell_type": "code",
   "execution_count": 54,
   "id": "b8bbd83f",
   "metadata": {},
   "outputs": [
    {
     "data": {
      "text/plain": [
       "['xyz', 'pqr', 3479.24]"
      ]
     },
     "execution_count": 54,
     "metadata": {},
     "output_type": "execute_result"
    }
   ],
   "source": [
    "l2"
   ]
  },
  {
   "cell_type": "code",
   "execution_count": 55,
   "id": "bf02407f",
   "metadata": {},
   "outputs": [],
   "source": [
    "l2.append(\"Suraj\")"
   ]
  },
  {
   "cell_type": "code",
   "execution_count": 56,
   "id": "96b5eaab",
   "metadata": {},
   "outputs": [
    {
     "data": {
      "text/plain": [
       "['xyz', 'pqr', 3479.24, 'Suraj']"
      ]
     },
     "execution_count": 56,
     "metadata": {},
     "output_type": "execute_result"
    }
   ],
   "source": [
    "l2"
   ]
  },
  {
   "cell_type": "code",
   "execution_count": 57,
   "id": "ca52a76f",
   "metadata": {},
   "outputs": [
    {
     "data": {
      "text/plain": [
       "'Suraj'"
      ]
     },
     "execution_count": 57,
     "metadata": {},
     "output_type": "execute_result"
    }
   ],
   "source": [
    "l2.pop()"
   ]
  },
  {
   "cell_type": "code",
   "execution_count": 58,
   "id": "fc5a68bc",
   "metadata": {},
   "outputs": [
    {
     "data": {
      "text/plain": [
       "3479.24"
      ]
     },
     "execution_count": 58,
     "metadata": {},
     "output_type": "execute_result"
    }
   ],
   "source": [
    "l2.pop(2)"
   ]
  },
  {
   "cell_type": "code",
   "execution_count": 59,
   "id": "00ee883a",
   "metadata": {},
   "outputs": [
    {
     "data": {
      "text/plain": [
       "['xyz', 'pqr']"
      ]
     },
     "execution_count": 59,
     "metadata": {},
     "output_type": "execute_result"
    }
   ],
   "source": [
    "l2"
   ]
  },
  {
   "cell_type": "code",
   "execution_count": 60,
   "id": "8531ae46",
   "metadata": {},
   "outputs": [],
   "source": [
    "l2.insert(1,345456.323)"
   ]
  },
  {
   "cell_type": "code",
   "execution_count": 61,
   "id": "476550e5",
   "metadata": {},
   "outputs": [
    {
     "data": {
      "text/plain": [
       "['xyz', 345456.323, 'pqr']"
      ]
     },
     "execution_count": 61,
     "metadata": {},
     "output_type": "execute_result"
    }
   ],
   "source": [
    "l2"
   ]
  },
  {
   "cell_type": "code",
   "execution_count": 62,
   "id": "810f75e1",
   "metadata": {},
   "outputs": [
    {
     "data": {
      "text/plain": [
       "['pqr', 345456.323, 'xyz']"
      ]
     },
     "execution_count": 62,
     "metadata": {},
     "output_type": "execute_result"
    }
   ],
   "source": [
    "l2[::-1]"
   ]
  },
  {
   "cell_type": "code",
   "execution_count": 63,
   "id": "0bf8d2a4",
   "metadata": {},
   "outputs": [],
   "source": [
    "l2.reverse()"
   ]
  },
  {
   "cell_type": "code",
   "execution_count": 64,
   "id": "2c815bf2",
   "metadata": {},
   "outputs": [
    {
     "data": {
      "text/plain": [
       "['pqr', 345456.323, 'xyz']"
      ]
     },
     "execution_count": 64,
     "metadata": {},
     "output_type": "execute_result"
    }
   ],
   "source": [
    "l2"
   ]
  },
  {
   "cell_type": "code",
   "execution_count": 65,
   "id": "7eaa8d2d",
   "metadata": {},
   "outputs": [
    {
     "data": {
      "text/plain": [
       "1"
      ]
     },
     "execution_count": 65,
     "metadata": {},
     "output_type": "execute_result"
    }
   ],
   "source": [
    "l2.count('xyz')"
   ]
  },
  {
   "cell_type": "code",
   "execution_count": 66,
   "id": "516493b6",
   "metadata": {},
   "outputs": [],
   "source": [
    "l2.append([234,34,212,6])"
   ]
  },
  {
   "cell_type": "code",
   "execution_count": 67,
   "id": "0140c5cf",
   "metadata": {},
   "outputs": [
    {
     "data": {
      "text/plain": [
       "['pqr', 345456.323, 'xyz', [234, 34, 212, 6]]"
      ]
     },
     "execution_count": 67,
     "metadata": {},
     "output_type": "execute_result"
    }
   ],
   "source": [
    "l2"
   ]
  },
  {
   "cell_type": "code",
   "execution_count": 68,
   "id": "6e18937f",
   "metadata": {},
   "outputs": [
    {
     "data": {
      "text/plain": [
       "['Surya', 'Kumar', 356456]"
      ]
     },
     "execution_count": 68,
     "metadata": {},
     "output_type": "execute_result"
    }
   ],
   "source": [
    "l1"
   ]
  },
  {
   "cell_type": "code",
   "execution_count": 69,
   "id": "7c6c1c98",
   "metadata": {},
   "outputs": [],
   "source": [
    "l1.extend([32,54,678, 'shdhjk'])"
   ]
  },
  {
   "cell_type": "code",
   "execution_count": 70,
   "id": "271139f5",
   "metadata": {},
   "outputs": [
    {
     "data": {
      "text/plain": [
       "['Surya', 'Kumar', 356456, 32, 54, 678, 'shdhjk']"
      ]
     },
     "execution_count": 70,
     "metadata": {},
     "output_type": "execute_result"
    }
   ],
   "source": [
    "l1"
   ]
  },
  {
   "cell_type": "markdown",
   "id": "ef26c796",
   "metadata": {},
   "source": [
    "Tuples: It a kind of variable where we can hold different types of data in it and notation for 'Tuple' is ()."
   ]
  },
  {
   "cell_type": "code",
   "execution_count": 1,
   "id": "79105430",
   "metadata": {},
   "outputs": [],
   "source": [
    "t = (1,2,3,4,5)"
   ]
  },
  {
   "cell_type": "code",
   "execution_count": 2,
   "id": "31c26e6c",
   "metadata": {},
   "outputs": [
    {
     "data": {
      "text/plain": [
       "tuple"
      ]
     },
     "execution_count": 2,
     "metadata": {},
     "output_type": "execute_result"
    }
   ],
   "source": [
    "type(t)"
   ]
  },
  {
   "cell_type": "code",
   "execution_count": 3,
   "id": "f5bd78c1",
   "metadata": {},
   "outputs": [],
   "source": [
    "t1 = (\"Suraj\", 23432, 45+78j, 3243.56, True)"
   ]
  },
  {
   "cell_type": "code",
   "execution_count": 4,
   "id": "a3a5fd7e",
   "metadata": {},
   "outputs": [],
   "source": [
    "l = [\"Suraj\", 4324, 45+54j, 2343.12, True]"
   ]
  },
  {
   "cell_type": "code",
   "execution_count": 5,
   "id": "3cec0990",
   "metadata": {},
   "outputs": [
    {
     "data": {
      "text/plain": [
       "tuple"
      ]
     },
     "execution_count": 5,
     "metadata": {},
     "output_type": "execute_result"
    }
   ],
   "source": [
    "type(t1)"
   ]
  },
  {
   "cell_type": "code",
   "execution_count": 6,
   "id": "98da80ec",
   "metadata": {},
   "outputs": [
    {
     "data": {
      "text/plain": [
       "list"
      ]
     },
     "execution_count": 6,
     "metadata": {},
     "output_type": "execute_result"
    }
   ],
   "source": [
    "type(l)"
   ]
  },
  {
   "cell_type": "code",
   "execution_count": 7,
   "id": "787071dc",
   "metadata": {},
   "outputs": [
    {
     "data": {
      "text/plain": [
       "('Suraj', 23432, (45+78j), 3243.56, True)"
      ]
     },
     "execution_count": 7,
     "metadata": {},
     "output_type": "execute_result"
    }
   ],
   "source": [
    "t1"
   ]
  },
  {
   "cell_type": "code",
   "execution_count": 8,
   "id": "c7676b1d",
   "metadata": {},
   "outputs": [
    {
     "data": {
      "text/plain": [
       "['Suraj', 4324, (45+54j), 2343.12, True]"
      ]
     },
     "execution_count": 8,
     "metadata": {},
     "output_type": "execute_result"
    }
   ],
   "source": [
    "l"
   ]
  },
  {
   "cell_type": "code",
   "execution_count": 9,
   "id": "43a110df",
   "metadata": {},
   "outputs": [
    {
     "data": {
      "text/plain": [
       "['Suraj', 4324]"
      ]
     },
     "execution_count": 9,
     "metadata": {},
     "output_type": "execute_result"
    }
   ],
   "source": [
    "l[0:2]"
   ]
  },
  {
   "cell_type": "code",
   "execution_count": 10,
   "id": "1a742e96",
   "metadata": {},
   "outputs": [
    {
     "data": {
      "text/plain": [
       "('Suraj', 23432)"
      ]
     },
     "execution_count": 10,
     "metadata": {},
     "output_type": "execute_result"
    }
   ],
   "source": [
    "t1[0:2]"
   ]
  },
  {
   "cell_type": "code",
   "execution_count": 11,
   "id": "b113aa99",
   "metadata": {},
   "outputs": [
    {
     "data": {
      "text/plain": [
       "(True, 3243.56, (45+78j), 23432, 'Suraj')"
      ]
     },
     "execution_count": 11,
     "metadata": {},
     "output_type": "execute_result"
    }
   ],
   "source": [
    "t1[::-1]"
   ]
  },
  {
   "cell_type": "code",
   "execution_count": 12,
   "id": "42d7b8d6",
   "metadata": {},
   "outputs": [
    {
     "data": {
      "text/plain": [
       "True"
      ]
     },
     "execution_count": 12,
     "metadata": {},
     "output_type": "execute_result"
    }
   ],
   "source": [
    "t1[-1]"
   ]
  },
  {
   "cell_type": "code",
   "execution_count": 13,
   "id": "c9279cb3",
   "metadata": {},
   "outputs": [
    {
     "data": {
      "text/plain": [
       "('Suraj', (45+78j), True)"
      ]
     },
     "execution_count": 13,
     "metadata": {},
     "output_type": "execute_result"
    }
   ],
   "source": [
    "t1[0::2]"
   ]
  },
  {
   "cell_type": "code",
   "execution_count": 14,
   "id": "629b2c75",
   "metadata": {},
   "outputs": [
    {
     "ename": "TypeError",
     "evalue": "'tuple' object does not support item assignment",
     "output_type": "error",
     "traceback": [
      "\u001b[1;31m---------------------------------------------------------------------------\u001b[0m",
      "\u001b[1;31mTypeError\u001b[0m                                 Traceback (most recent call last)",
      "\u001b[1;32m~\\AppData\\Local\\Temp/ipykernel_5688/1428789884.py\u001b[0m in \u001b[0;36m<module>\u001b[1;34m\u001b[0m\n\u001b[1;32m----> 1\u001b[1;33m \u001b[0mt1\u001b[0m\u001b[1;33m[\u001b[0m\u001b[1;36m0\u001b[0m\u001b[1;33m]\u001b[0m \u001b[1;33m=\u001b[0m \u001b[1;34m\"xyz\"\u001b[0m\u001b[1;33m\u001b[0m\u001b[1;33m\u001b[0m\u001b[0m\n\u001b[0m",
      "\u001b[1;31mTypeError\u001b[0m: 'tuple' object does not support item assignment"
     ]
    }
   ],
   "source": [
    "t1[0] = \"xyz\""
   ]
  },
  {
   "cell_type": "code",
   "execution_count": 15,
   "id": "7c831c21",
   "metadata": {},
   "outputs": [],
   "source": [
    "t2 = (34,546,675,234,123)"
   ]
  },
  {
   "cell_type": "code",
   "execution_count": 16,
   "id": "9a9cf5ca",
   "metadata": {},
   "outputs": [
    {
     "data": {
      "text/plain": [
       "('Suraj', 23432, (45+78j), 3243.56, True, 34, 546, 675, 234, 123)"
      ]
     },
     "execution_count": 16,
     "metadata": {},
     "output_type": "execute_result"
    }
   ],
   "source": [
    "t1 + t2"
   ]
  },
  {
   "cell_type": "code",
   "execution_count": 17,
   "id": "568345f3",
   "metadata": {},
   "outputs": [
    {
     "data": {
      "text/plain": [
       "('Suraj',\n",
       " 23432,\n",
       " (45+78j),\n",
       " 3243.56,\n",
       " True,\n",
       " 'Suraj',\n",
       " 23432,\n",
       " (45+78j),\n",
       " 3243.56,\n",
       " True)"
      ]
     },
     "execution_count": 17,
     "metadata": {},
     "output_type": "execute_result"
    }
   ],
   "source": [
    "t1 * 2"
   ]
  },
  {
   "cell_type": "code",
   "execution_count": 20,
   "id": "408d1ba4",
   "metadata": {},
   "outputs": [
    {
     "data": {
      "text/plain": [
       "1"
      ]
     },
     "execution_count": 20,
     "metadata": {},
     "output_type": "execute_result"
    }
   ],
   "source": [
    "t1.count('Suraj')"
   ]
  },
  {
   "cell_type": "code",
   "execution_count": 21,
   "id": "4e5ccaf9",
   "metadata": {},
   "outputs": [
    {
     "data": {
      "text/plain": [
       "0"
      ]
     },
     "execution_count": 21,
     "metadata": {},
     "output_type": "execute_result"
    }
   ],
   "source": [
    "t1.index(\"Suraj\")"
   ]
  },
  {
   "cell_type": "code",
   "execution_count": 22,
   "id": "0eeed7e6",
   "metadata": {},
   "outputs": [],
   "source": [
    "t = (312,34,21,(23,2,13,), 'Suraj')"
   ]
  },
  {
   "cell_type": "code",
   "execution_count": 23,
   "id": "ec8d5f35",
   "metadata": {},
   "outputs": [],
   "source": [
    "t1 = ([3,2,14,7], (\"awadad\", 2,2432.2), 'ddsf')"
   ]
  },
  {
   "cell_type": "code",
   "execution_count": 25,
   "id": "06f877c3",
   "metadata": {},
   "outputs": [],
   "source": [
    "t1[0][2] = \"Suraj\""
   ]
  },
  {
   "cell_type": "code",
   "execution_count": 26,
   "id": "fe77434c",
   "metadata": {},
   "outputs": [
    {
     "data": {
      "text/plain": [
       "([3, 2, 'Suraj', 7], ('awadad', 2, 2432.2), 'ddsf')"
      ]
     },
     "execution_count": 26,
     "metadata": {},
     "output_type": "execute_result"
    }
   ],
   "source": [
    "t1"
   ]
  },
  {
   "cell_type": "code",
   "execution_count": 27,
   "id": "9ef58887",
   "metadata": {},
   "outputs": [
    {
     "data": {
      "text/plain": [
       "([3, 2, 'Suraj', 7], ('awadad', 2, 2432.2), 'ddsf')"
      ]
     },
     "execution_count": 27,
     "metadata": {},
     "output_type": "execute_result"
    }
   ],
   "source": [
    "t1"
   ]
  },
  {
   "cell_type": "code",
   "execution_count": 28,
   "id": "8d394db6",
   "metadata": {},
   "outputs": [
    {
     "data": {
      "text/plain": [
       "[[3, 2, 'Suraj', 7], ('awadad', 2, 2432.2), 'ddsf']"
      ]
     },
     "execution_count": 28,
     "metadata": {},
     "output_type": "execute_result"
    }
   ],
   "source": [
    "list(t1)"
   ]
  },
  {
   "cell_type": "markdown",
   "id": "83d99c82",
   "metadata": {},
   "source": [
    "set is a collection which is always try to hold unique elements. It's notation is {}."
   ]
  },
  {
   "cell_type": "code",
   "execution_count": 29,
   "id": "4450903c",
   "metadata": {},
   "outputs": [
    {
     "data": {
      "text/plain": [
       "{(45+54j), 2343.12, 4324, 'Suraj', True}"
      ]
     },
     "execution_count": 29,
     "metadata": {},
     "output_type": "execute_result"
    }
   ],
   "source": [
    "set(l)"
   ]
  },
  {
   "cell_type": "code",
   "execution_count": 30,
   "id": "b48a96f3",
   "metadata": {},
   "outputs": [],
   "source": [
    "s = {3,32,12,33}"
   ]
  },
  {
   "cell_type": "code",
   "execution_count": 31,
   "id": "5880d61b",
   "metadata": {},
   "outputs": [
    {
     "data": {
      "text/plain": [
       "set"
      ]
     },
     "execution_count": 31,
     "metadata": {},
     "output_type": "execute_result"
    }
   ],
   "source": [
    "type(s)"
   ]
  },
  {
   "cell_type": "code",
   "execution_count": 32,
   "id": "200dec22",
   "metadata": {},
   "outputs": [],
   "source": [
    "s1 = {}"
   ]
  },
  {
   "cell_type": "code",
   "execution_count": 33,
   "id": "1a6ffe3b",
   "metadata": {},
   "outputs": [
    {
     "data": {
      "text/plain": [
       "dict"
      ]
     },
     "execution_count": 33,
     "metadata": {},
     "output_type": "execute_result"
    }
   ],
   "source": [
    "type(s1)"
   ]
  },
  {
   "cell_type": "code",
   "execution_count": 34,
   "id": "36970625",
   "metadata": {},
   "outputs": [],
   "source": [
    "s2 = {3,4,5,6,7,8,8,9,2,2,2,21,1,1,1,3,5,5,6,7}"
   ]
  },
  {
   "cell_type": "code",
   "execution_count": 35,
   "id": "087463d6",
   "metadata": {},
   "outputs": [
    {
     "data": {
      "text/plain": [
       "{1, 2, 3, 4, 5, 6, 7, 8, 9, 21}"
      ]
     },
     "execution_count": 35,
     "metadata": {},
     "output_type": "execute_result"
    }
   ],
   "source": [
    "s2"
   ]
  },
  {
   "cell_type": "code",
   "execution_count": 36,
   "id": "5af7b17c",
   "metadata": {},
   "outputs": [
    {
     "ename": "TypeError",
     "evalue": "'set' object is not subscriptable",
     "output_type": "error",
     "traceback": [
      "\u001b[1;31m---------------------------------------------------------------------------\u001b[0m",
      "\u001b[1;31mTypeError\u001b[0m                                 Traceback (most recent call last)",
      "\u001b[1;32m~\\AppData\\Local\\Temp/ipykernel_5688/2344841457.py\u001b[0m in \u001b[0;36m<module>\u001b[1;34m\u001b[0m\n\u001b[1;32m----> 1\u001b[1;33m \u001b[0ms2\u001b[0m\u001b[1;33m[\u001b[0m\u001b[1;36m0\u001b[0m\u001b[1;33m]\u001b[0m\u001b[1;33m\u001b[0m\u001b[1;33m\u001b[0m\u001b[0m\n\u001b[0m",
      "\u001b[1;31mTypeError\u001b[0m: 'set' object is not subscriptable"
     ]
    }
   ],
   "source": [
    "s2[0]"
   ]
  },
  {
   "cell_type": "code",
   "execution_count": 37,
   "id": "3161c976",
   "metadata": {},
   "outputs": [
    {
     "data": {
      "text/plain": [
       "[1, 2, 3, 4, 5, 6, 7, 8, 9, 21]"
      ]
     },
     "execution_count": 37,
     "metadata": {},
     "output_type": "execute_result"
    }
   ],
   "source": [
    "list(s2)"
   ]
  },
  {
   "cell_type": "code",
   "execution_count": 38,
   "id": "303e26b4",
   "metadata": {},
   "outputs": [
    {
     "data": {
      "text/plain": [
       "{1, 2, 3, 4, 5, 6, 7, 8, 9, 21}"
      ]
     },
     "execution_count": 38,
     "metadata": {},
     "output_type": "execute_result"
    }
   ],
   "source": [
    "s2"
   ]
  },
  {
   "cell_type": "code",
   "execution_count": 39,
   "id": "702b7bc7",
   "metadata": {},
   "outputs": [],
   "source": [
    "s2.add(334123)"
   ]
  },
  {
   "cell_type": "code",
   "execution_count": 40,
   "id": "1a93ca25",
   "metadata": {},
   "outputs": [
    {
     "data": {
      "text/plain": [
       "{1, 2, 3, 4, 5, 6, 7, 8, 9, 21, 334123}"
      ]
     },
     "execution_count": 40,
     "metadata": {},
     "output_type": "execute_result"
    }
   ],
   "source": [
    "s2"
   ]
  },
  {
   "cell_type": "code",
   "execution_count": 41,
   "id": "5eed2003",
   "metadata": {},
   "outputs": [],
   "source": [
    "s2.add(\"Suraj\")"
   ]
  },
  {
   "cell_type": "code",
   "execution_count": 42,
   "id": "868f7836",
   "metadata": {},
   "outputs": [
    {
     "data": {
      "text/plain": [
       "{1, 2, 21, 3, 334123, 4, 5, 6, 7, 8, 9, 'Suraj'}"
      ]
     },
     "execution_count": 42,
     "metadata": {},
     "output_type": "execute_result"
    }
   ],
   "source": [
    "s2"
   ]
  },
  {
   "cell_type": "code",
   "execution_count": 43,
   "id": "e942af9a",
   "metadata": {},
   "outputs": [
    {
     "ename": "TypeError",
     "evalue": "unhashable type: 'list'",
     "output_type": "error",
     "traceback": [
      "\u001b[1;31m---------------------------------------------------------------------------\u001b[0m",
      "\u001b[1;31mTypeError\u001b[0m                                 Traceback (most recent call last)",
      "\u001b[1;32m~\\AppData\\Local\\Temp/ipykernel_5688/2316748341.py\u001b[0m in \u001b[0;36m<module>\u001b[1;34m\u001b[0m\n\u001b[1;32m----> 1\u001b[1;33m \u001b[0ms2\u001b[0m\u001b[1;33m.\u001b[0m\u001b[0madd\u001b[0m\u001b[1;33m(\u001b[0m\u001b[1;33m[\u001b[0m\u001b[1;36m4\u001b[0m\u001b[1;33m,\u001b[0m\u001b[1;36m1\u001b[0m\u001b[1;33m,\u001b[0m\u001b[1;36m4\u001b[0m\u001b[1;33m,\u001b[0m\u001b[1;36m5\u001b[0m\u001b[1;33m]\u001b[0m\u001b[1;33m)\u001b[0m\u001b[1;33m\u001b[0m\u001b[1;33m\u001b[0m\u001b[0m\n\u001b[0m",
      "\u001b[1;31mTypeError\u001b[0m: unhashable type: 'list'"
     ]
    }
   ],
   "source": [
    "s2.add([4,1,4,5])"
   ]
  },
  {
   "cell_type": "code",
   "execution_count": 44,
   "id": "1cb7f6af",
   "metadata": {},
   "outputs": [
    {
     "data": {
      "text/plain": [
       "{(2, 3, 5, 6, 7), 1, 2, 23, 34, 4}"
      ]
     },
     "execution_count": 44,
     "metadata": {},
     "output_type": "execute_result"
    }
   ],
   "source": [
    "{(2,3,5,6,7), 23,1,2,34,4}"
   ]
  },
  {
   "cell_type": "code",
   "execution_count": 47,
   "id": "428ebf67",
   "metadata": {},
   "outputs": [],
   "source": [
    "s = {(2,3,5,6,7), (2,3,5,6,7), 23,1,2,34,4}"
   ]
  },
  {
   "cell_type": "code",
   "execution_count": 48,
   "id": "2cf8f562",
   "metadata": {},
   "outputs": [
    {
     "data": {
      "text/plain": [
       "{(2, 3, 5, 6, 7), 1, 2, 23, 34, 4}"
      ]
     },
     "execution_count": 48,
     "metadata": {},
     "output_type": "execute_result"
    }
   ],
   "source": [
    "s"
   ]
  },
  {
   "cell_type": "code",
   "execution_count": 49,
   "id": "b107a7b1",
   "metadata": {},
   "outputs": [],
   "source": [
    "s.remove(4)"
   ]
  },
  {
   "cell_type": "code",
   "execution_count": 50,
   "id": "5b054637",
   "metadata": {},
   "outputs": [
    {
     "data": {
      "text/plain": [
       "{(2, 3, 5, 6, 7), 1, 2, 23, 34}"
      ]
     },
     "execution_count": 50,
     "metadata": {},
     "output_type": "execute_result"
    }
   ],
   "source": [
    "s"
   ]
  },
  {
   "cell_type": "code",
   "execution_count": 55,
   "id": "0a92cc4b",
   "metadata": {},
   "outputs": [],
   "source": [
    "s.discard(34)"
   ]
  },
  {
   "cell_type": "code",
   "execution_count": 56,
   "id": "0d62cb5f",
   "metadata": {},
   "outputs": [
    {
     "data": {
      "text/plain": [
       "{(2, 3, 5, 6, 7), 1, 2, 23}"
      ]
     },
     "execution_count": 56,
     "metadata": {},
     "output_type": "execute_result"
    }
   ],
   "source": [
    "s"
   ]
  },
  {
   "cell_type": "code",
   "execution_count": 57,
   "id": "e24da1fd",
   "metadata": {},
   "outputs": [
    {
     "ename": "KeyError",
     "evalue": "45",
     "output_type": "error",
     "traceback": [
      "\u001b[1;31m---------------------------------------------------------------------------\u001b[0m",
      "\u001b[1;31mKeyError\u001b[0m                                  Traceback (most recent call last)",
      "\u001b[1;32m~\\AppData\\Local\\Temp/ipykernel_5688/2010124880.py\u001b[0m in \u001b[0;36m<module>\u001b[1;34m\u001b[0m\n\u001b[1;32m----> 1\u001b[1;33m \u001b[0ms\u001b[0m\u001b[1;33m.\u001b[0m\u001b[0mremove\u001b[0m\u001b[1;33m(\u001b[0m\u001b[1;36m45\u001b[0m\u001b[1;33m)\u001b[0m\u001b[1;33m\u001b[0m\u001b[1;33m\u001b[0m\u001b[0m\n\u001b[0m",
      "\u001b[1;31mKeyError\u001b[0m: 45"
     ]
    }
   ],
   "source": [
    "s.remove(45)"
   ]
  },
  {
   "cell_type": "code",
   "execution_count": 58,
   "id": "f091a73e",
   "metadata": {},
   "outputs": [],
   "source": [
    "s.discard(45)"
   ]
  },
  {
   "cell_type": "markdown",
   "id": "6992b5e1",
   "metadata": {},
   "source": [
    "Note: Set is neither a mutable nor immutable. Set is unordered collections, if it is an unordered collection then you will not be able to get any indexes and you cannot be able to perform any manipulation operations."
   ]
  },
  {
   "cell_type": "code",
   "execution_count": 60,
   "id": "b06deefd",
   "metadata": {},
   "outputs": [
    {
     "data": {
      "text/plain": [
       "{'Suraj', 'suraj'}"
      ]
     },
     "execution_count": 60,
     "metadata": {},
     "output_type": "execute_result"
    }
   ],
   "source": [
    "{'Suraj', 'suraj'}"
   ]
  },
  {
   "cell_type": "markdown",
   "id": "c703d726",
   "metadata": {},
   "source": [
    "Dictionary: It is a variable where we can hold data in the form of Keys and Values pair."
   ]
  },
  {
   "cell_type": "code",
   "execution_count": 62,
   "id": "7a391a8c",
   "metadata": {},
   "outputs": [],
   "source": [
    "d = {4:\"Suraj\"}"
   ]
  },
  {
   "cell_type": "code",
   "execution_count": 64,
   "id": "5d388892",
   "metadata": {},
   "outputs": [],
   "source": [
    "d1 = {\"key1\" : 53452, \"key2\" : \"Suraj\", 45 : [3,54,2,1,4]}"
   ]
  },
  {
   "cell_type": "code",
   "execution_count": 65,
   "id": "7f40836b",
   "metadata": {},
   "outputs": [
    {
     "data": {
      "text/plain": [
       "{'key1': 53452, 'key2': 'Suraj', 45: [3, 54, 2, 1, 4]}"
      ]
     },
     "execution_count": 65,
     "metadata": {},
     "output_type": "execute_result"
    }
   ],
   "source": [
    "d1"
   ]
  },
  {
   "cell_type": "code",
   "execution_count": 67,
   "id": "790dc803",
   "metadata": {},
   "outputs": [
    {
     "data": {
      "text/plain": [
       "53452"
      ]
     },
     "execution_count": 67,
     "metadata": {},
     "output_type": "execute_result"
    }
   ],
   "source": [
    "d1['key1']"
   ]
  },
  {
   "cell_type": "code",
   "execution_count": 68,
   "id": "56f4f78a",
   "metadata": {},
   "outputs": [
    {
     "data": {
      "text/plain": [
       "[3, 54, 2, 1, 4]"
      ]
     },
     "execution_count": 68,
     "metadata": {},
     "output_type": "execute_result"
    }
   ],
   "source": [
    "d1[45]"
   ]
  },
  {
   "cell_type": "code",
   "execution_count": 6,
   "id": "db4572ba",
   "metadata": {},
   "outputs": [],
   "source": [
    "d = {'key1' : [\"sdsfsd\", \"adsdf\", 4,5,2,1,1,4,5,], 'key1': (2,3,5,2,1)}"
   ]
  },
  {
   "cell_type": "code",
   "execution_count": 7,
   "id": "736c08e3",
   "metadata": {},
   "outputs": [
    {
     "data": {
      "text/plain": [
       "(2, 3, 5, 2, 1)"
      ]
     },
     "execution_count": 7,
     "metadata": {},
     "output_type": "execute_result"
    }
   ],
   "source": [
    "d['key1']"
   ]
  },
  {
   "cell_type": "code",
   "execution_count": 8,
   "id": "3104fd63",
   "metadata": {},
   "outputs": [],
   "source": [
    "d = {'name' : 'suraj', 'mob_no': 23434534534, 'mail_id': 'sksuraj76@gmail.com', 'key1': [4,5,6,7], 'key2': (3,12,4,5,6), 'key3': {3,1,1,4,5,6,6,3,2}, 'key4': {1:4,3:6}}"
   ]
  },
  {
   "cell_type": "code",
   "execution_count": 9,
   "id": "17290236",
   "metadata": {},
   "outputs": [
    {
     "data": {
      "text/plain": [
       "{'name': 'suraj',\n",
       " 'mob_no': 23434534534,\n",
       " 'mail_id': 'sksuraj76@gmail.com',\n",
       " 'key1': [4, 5, 6, 7],\n",
       " 'key2': (3, 12, 4, 5, 6),\n",
       " 'key3': {1, 2, 3, 4, 5, 6},\n",
       " 'key4': {1: 4, 3: 6}}"
      ]
     },
     "execution_count": 9,
     "metadata": {},
     "output_type": "execute_result"
    }
   ],
   "source": [
    "d"
   ]
  },
  {
   "cell_type": "code",
   "execution_count": 10,
   "id": "ae5e40f8",
   "metadata": {},
   "outputs": [
    {
     "data": {
      "text/plain": [
       "set"
      ]
     },
     "execution_count": 10,
     "metadata": {},
     "output_type": "execute_result"
    }
   ],
   "source": [
    "type(d['key3'])"
   ]
  },
  {
   "cell_type": "code",
   "execution_count": 11,
   "id": "cbd2e61c",
   "metadata": {},
   "outputs": [
    {
     "data": {
      "text/plain": [
       "6"
      ]
     },
     "execution_count": 11,
     "metadata": {},
     "output_type": "execute_result"
    }
   ],
   "source": [
    "d['key4'][3]"
   ]
  },
  {
   "cell_type": "code",
   "execution_count": 12,
   "id": "ec4b80ad",
   "metadata": {},
   "outputs": [
    {
     "data": {
      "text/plain": [
       "dict_keys(['name', 'mob_no', 'mail_id', 'key1', 'key2', 'key3', 'key4'])"
      ]
     },
     "execution_count": 12,
     "metadata": {},
     "output_type": "execute_result"
    }
   ],
   "source": [
    "d.keys()"
   ]
  },
  {
   "cell_type": "code",
   "execution_count": 13,
   "id": "3b15bad6",
   "metadata": {},
   "outputs": [
    {
     "data": {
      "text/plain": [
       "dict_values(['suraj', 23434534534, 'sksuraj76@gmail.com', [4, 5, 6, 7], (3, 12, 4, 5, 6), {1, 2, 3, 4, 5, 6}, {1: 4, 3: 6}])"
      ]
     },
     "execution_count": 13,
     "metadata": {},
     "output_type": "execute_result"
    }
   ],
   "source": [
    "d.values()"
   ]
  },
  {
   "cell_type": "code",
   "execution_count": 14,
   "id": "55b40c76",
   "metadata": {},
   "outputs": [
    {
     "data": {
      "text/plain": [
       "dict_items([('name', 'suraj'), ('mob_no', 23434534534), ('mail_id', 'sksuraj76@gmail.com'), ('key1', [4, 5, 6, 7]), ('key2', (3, 12, 4, 5, 6)), ('key3', {1, 2, 3, 4, 5, 6}), ('key4', {1: 4, 3: 6})])"
      ]
     },
     "execution_count": 14,
     "metadata": {},
     "output_type": "execute_result"
    }
   ],
   "source": [
    "d.items()"
   ]
  },
  {
   "cell_type": "code",
   "execution_count": 15,
   "id": "b17c8fe8",
   "metadata": {},
   "outputs": [],
   "source": [
    "d2 = {'key1': 'suraj', 'key2': [2,3,4,5,6]} "
   ]
  },
  {
   "cell_type": "code",
   "execution_count": 16,
   "id": "3981660e",
   "metadata": {},
   "outputs": [],
   "source": [
    "d2['key3'] = 'kumar'"
   ]
  },
  {
   "cell_type": "code",
   "execution_count": 17,
   "id": "89163a7b",
   "metadata": {},
   "outputs": [
    {
     "data": {
      "text/plain": [
       "{'key1': 'suraj', 'key2': [2, 3, 4, 5, 6], 'key3': 'kumar'}"
      ]
     },
     "execution_count": 17,
     "metadata": {},
     "output_type": "execute_result"
    }
   ],
   "source": [
    "d2"
   ]
  },
  {
   "cell_type": "code",
   "execution_count": 18,
   "id": "9d098ec4",
   "metadata": {},
   "outputs": [],
   "source": [
    "d2[4] = (23,4,5,67,6)"
   ]
  },
  {
   "cell_type": "code",
   "execution_count": 19,
   "id": "1eef2ead",
   "metadata": {},
   "outputs": [
    {
     "data": {
      "text/plain": [
       "{'key1': 'suraj',\n",
       " 'key2': [2, 3, 4, 5, 6],\n",
       " 'key3': 'kumar',\n",
       " 4: (23, 4, 5, 67, 6)}"
      ]
     },
     "execution_count": 19,
     "metadata": {},
     "output_type": "execute_result"
    }
   ],
   "source": [
    "d2"
   ]
  },
  {
   "cell_type": "code",
   "execution_count": 20,
   "id": "15023e4f",
   "metadata": {},
   "outputs": [],
   "source": [
    "d2['key1'] = 'adsdfsfvfdv'"
   ]
  },
  {
   "cell_type": "code",
   "execution_count": 21,
   "id": "c411d09a",
   "metadata": {},
   "outputs": [
    {
     "data": {
      "text/plain": [
       "{'key1': 'adsdfsfvfdv',\n",
       " 'key2': [2, 3, 4, 5, 6],\n",
       " 'key3': 'kumar',\n",
       " 4: (23, 4, 5, 67, 6)}"
      ]
     },
     "execution_count": 21,
     "metadata": {},
     "output_type": "execute_result"
    }
   ],
   "source": [
    "d2"
   ]
  },
  {
   "cell_type": "code",
   "execution_count": 22,
   "id": "7177468e",
   "metadata": {},
   "outputs": [],
   "source": [
    "del d2['key1']"
   ]
  },
  {
   "cell_type": "code",
   "execution_count": 23,
   "id": "ff4b4e8d",
   "metadata": {},
   "outputs": [
    {
     "data": {
      "text/plain": [
       "{'key2': [2, 3, 4, 5, 6], 'key3': 'kumar', 4: (23, 4, 5, 67, 6)}"
      ]
     },
     "execution_count": 23,
     "metadata": {},
     "output_type": "execute_result"
    }
   ],
   "source": [
    "d2"
   ]
  },
  {
   "cell_type": "code",
   "execution_count": 24,
   "id": "9d57c5d0",
   "metadata": {},
   "outputs": [],
   "source": [
    "d2[(2,4,5,6)] = 'suraj'"
   ]
  },
  {
   "cell_type": "code",
   "execution_count": 25,
   "id": "1c99aa41",
   "metadata": {},
   "outputs": [
    {
     "data": {
      "text/plain": [
       "{'key2': [2, 3, 4, 5, 6],\n",
       " 'key3': 'kumar',\n",
       " 4: (23, 4, 5, 67, 6),\n",
       " (2, 4, 5, 6): 'suraj'}"
      ]
     },
     "execution_count": 25,
     "metadata": {},
     "output_type": "execute_result"
    }
   ],
   "source": [
    "d2"
   ]
  },
  {
   "cell_type": "code",
   "execution_count": 26,
   "id": "2fd59b42",
   "metadata": {},
   "outputs": [],
   "source": [
    "d2.get('key1')"
   ]
  },
  {
   "cell_type": "code",
   "execution_count": 27,
   "id": "c803351e",
   "metadata": {},
   "outputs": [
    {
     "data": {
      "text/plain": [
       "[2, 3, 4, 5, 6]"
      ]
     },
     "execution_count": 27,
     "metadata": {},
     "output_type": "execute_result"
    }
   ],
   "source": [
    "d2.get('key2')"
   ]
  },
  {
   "cell_type": "code",
   "execution_count": 28,
   "id": "43aa5218",
   "metadata": {},
   "outputs": [],
   "source": [
    "d3 = {'key1': 'ineuron', 'key2': 'asdsdf'}"
   ]
  },
  {
   "cell_type": "code",
   "execution_count": 29,
   "id": "6e654ba8",
   "metadata": {},
   "outputs": [],
   "source": [
    "d4 = {'key3': 3234, 'key4': [2,43,2,4,5]}"
   ]
  },
  {
   "cell_type": "code",
   "execution_count": 105,
   "id": "06a79855",
   "metadata": {},
   "outputs": [],
   "source": [
    "d3.update(d4)"
   ]
  },
  {
   "cell_type": "code",
   "execution_count": 106,
   "id": "1b68510f",
   "metadata": {},
   "outputs": [
    {
     "data": {
      "text/plain": [
       "{'key1': 'ineuron', 'key2': 'asdsdf', 'key3': 3234, 'key4': [2, 43, 2, 4, 5]}"
      ]
     },
     "execution_count": 106,
     "metadata": {},
     "output_type": "execute_result"
    }
   ],
   "source": [
    "d3"
   ]
  },
  {
   "cell_type": "code",
   "execution_count": 107,
   "id": "0c071e4a",
   "metadata": {},
   "outputs": [
    {
     "ename": "TypeError",
     "evalue": "unsupported operand type(s) for +: 'dict' and 'dict'",
     "output_type": "error",
     "traceback": [
      "\u001b[1;31m---------------------------------------------------------------------------\u001b[0m",
      "\u001b[1;31mTypeError\u001b[0m                                 Traceback (most recent call last)",
      "\u001b[1;32m~\\AppData\\Local\\Temp/ipykernel_5688/4179756737.py\u001b[0m in \u001b[0;36m<module>\u001b[1;34m\u001b[0m\n\u001b[1;32m----> 1\u001b[1;33m \u001b[0md3\u001b[0m\u001b[1;33m+\u001b[0m\u001b[0md4\u001b[0m\u001b[1;33m\u001b[0m\u001b[1;33m\u001b[0m\u001b[0m\n\u001b[0m",
      "\u001b[1;31mTypeError\u001b[0m: unsupported operand type(s) for +: 'dict' and 'dict'"
     ]
    }
   ],
   "source": [
    "d3+d4"
   ]
  },
  {
   "cell_type": "code",
   "execution_count": 30,
   "id": "ad6d0134",
   "metadata": {},
   "outputs": [
    {
     "data": {
      "text/plain": [
       "5"
      ]
     },
     "execution_count": 30,
     "metadata": {},
     "output_type": "execute_result"
    }
   ],
   "source": [
    "t1 = (\"suraj\",2,1+2j,3,4,True)\n",
    "t1.index(True)"
   ]
  },
  {
   "cell_type": "code",
   "execution_count": 31,
   "id": "70dce4ff",
   "metadata": {},
   "outputs": [
    {
     "ename": "TypeError",
     "evalue": "fromkeys expected at least 1 argument, got 0",
     "output_type": "error",
     "traceback": [
      "\u001b[1;31m---------------------------------------------------------------------------\u001b[0m",
      "\u001b[1;31mTypeError\u001b[0m                                 Traceback (most recent call last)",
      "\u001b[1;32m~\\AppData\\Local\\Temp/ipykernel_5172/1188333369.py\u001b[0m in \u001b[0;36m<module>\u001b[1;34m\u001b[0m\n\u001b[1;32m----> 1\u001b[1;33m \u001b[0md2\u001b[0m\u001b[1;33m.\u001b[0m\u001b[0mfromkeys\u001b[0m\u001b[1;33m(\u001b[0m\u001b[1;33m)\u001b[0m\u001b[1;33m\u001b[0m\u001b[1;33m\u001b[0m\u001b[0m\n\u001b[0m",
      "\u001b[1;31mTypeError\u001b[0m: fromkeys expected at least 1 argument, got 0"
     ]
    }
   ],
   "source": [
    "d2.fromkeys()"
   ]
  },
  {
   "cell_type": "code",
   "execution_count": null,
   "id": "3c878da7",
   "metadata": {},
   "outputs": [],
   "source": []
  }
 ],
 "metadata": {
  "kernelspec": {
   "display_name": "Python 3 (ipykernel)",
   "language": "python",
   "name": "python3"
  },
  "language_info": {
   "codemirror_mode": {
    "name": "ipython",
    "version": 3
   },
   "file_extension": ".py",
   "mimetype": "text/x-python",
   "name": "python",
   "nbconvert_exporter": "python",
   "pygments_lexer": "ipython3",
   "version": "3.9.7"
  }
 },
 "nbformat": 4,
 "nbformat_minor": 5
}
