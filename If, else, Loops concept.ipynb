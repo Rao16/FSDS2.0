{
 "cells": [
  {
   "cell_type": "code",
   "execution_count": 1,
   "id": "2e74060a",
   "metadata": {},
   "outputs": [],
   "source": [
    "a = 10"
   ]
  },
  {
   "cell_type": "code",
   "execution_count": 2,
   "id": "c4d5c06c",
   "metadata": {},
   "outputs": [
    {
     "name": "stdout",
     "output_type": "stream",
     "text": [
      "my name is Suraj\n"
     ]
    }
   ],
   "source": [
    "if a < 15:\n",
    "    print('my name is Suraj')"
   ]
  },
  {
   "cell_type": "code",
   "execution_count": 3,
   "id": "c2a1c278",
   "metadata": {},
   "outputs": [
    {
     "data": {
      "text/plain": [
       "True"
      ]
     },
     "execution_count": 3,
     "metadata": {},
     "output_type": "execute_result"
    }
   ],
   "source": [
    "a < 15"
   ]
  },
  {
   "cell_type": "code",
   "execution_count": 4,
   "id": "4a9c6482",
   "metadata": {},
   "outputs": [],
   "source": [
    "if a < 15: \n",
    "    pass"
   ]
  },
  {
   "cell_type": "code",
   "execution_count": 5,
   "id": "7312e85d",
   "metadata": {},
   "outputs": [],
   "source": [
    "if 24 < 15:\n",
    "    print('my name is Suraj')"
   ]
  },
  {
   "cell_type": "code",
   "execution_count": 6,
   "id": "72003a78",
   "metadata": {},
   "outputs": [
    {
     "name": "stdout",
     "output_type": "stream",
     "text": [
      "5 is lesser than 10\n"
     ]
    }
   ],
   "source": [
    "if 5 < 10:\n",
    "    print(\"5 is lesser than 10\")\n",
    "else:\n",
    "    print(\"if statement is wrong\")"
   ]
  },
  {
   "cell_type": "code",
   "execution_count": 7,
   "id": "1ee96838",
   "metadata": {},
   "outputs": [
    {
     "name": "stdout",
     "output_type": "stream",
     "text": [
      "\n"
     ]
    },
    {
     "ename": "ValueError",
     "evalue": "invalid literal for int() with base 10: ''",
     "output_type": "error",
     "traceback": [
      "\u001b[1;31m---------------------------------------------------------------------------\u001b[0m",
      "\u001b[1;31mValueError\u001b[0m                                Traceback (most recent call last)",
      "\u001b[1;32m~\\AppData\\Local\\Temp/ipykernel_2928/1455657385.py\u001b[0m in \u001b[0;36m<module>\u001b[1;34m\u001b[0m\n\u001b[1;32m----> 1\u001b[1;33m \u001b[0mincome\u001b[0m \u001b[1;33m=\u001b[0m \u001b[0mint\u001b[0m\u001b[1;33m(\u001b[0m\u001b[0minput\u001b[0m\u001b[1;33m(\u001b[0m\u001b[1;33m)\u001b[0m\u001b[1;33m)\u001b[0m\u001b[1;33m\u001b[0m\u001b[1;33m\u001b[0m\u001b[0m\n\u001b[0m\u001b[0;32m      2\u001b[0m \u001b[1;33m\u001b[0m\u001b[0m\n\u001b[0;32m      3\u001b[0m \u001b[1;32mif\u001b[0m \u001b[0mincome\u001b[0m \u001b[1;33m<\u001b[0m \u001b[1;36m50\u001b[0m\u001b[1;33m:\u001b[0m\u001b[1;33m\u001b[0m\u001b[1;33m\u001b[0m\u001b[0m\n\u001b[0;32m      4\u001b[0m     \u001b[0mprint\u001b[0m\u001b[1;33m(\u001b[0m\u001b[1;34m\"I will be able to buy phone\"\u001b[0m\u001b[1;33m)\u001b[0m\u001b[1;33m\u001b[0m\u001b[1;33m\u001b[0m\u001b[0m\n\u001b[0;32m      5\u001b[0m \u001b[1;32melif\u001b[0m \u001b[0mincome\u001b[0m \u001b[1;33m<\u001b[0m \u001b[1;36m70\u001b[0m\u001b[1;33m:\u001b[0m\u001b[1;33m\u001b[0m\u001b[1;33m\u001b[0m\u001b[0m\n",
      "\u001b[1;31mValueError\u001b[0m: invalid literal for int() with base 10: ''"
     ]
    }
   ],
   "source": [
    "income = int(input())\n",
    "\n",
    "if income < 50:\n",
    "    print(\"I will be able to buy phone\")\n",
    "elif income < 70:\n",
    "    print(\"I will be able to buy a car\")\n",
    "elif income < 90:\n",
    "    print(\"I will be able to rent a house\")\n",
    "else :\n",
    "    print(\"I won't be able to buy anything\")"
   ]
  },
  {
   "cell_type": "code",
   "execution_count": 17,
   "id": "4d549d48",
   "metadata": {
    "scrolled": true
   },
   "outputs": [
    {
     "ename": "SyntaxError",
     "evalue": "invalid syntax (Temp/ipykernel_2928/674390310.py, line 7)",
     "output_type": "error",
     "traceback": [
      "\u001b[1;36m  File \u001b[1;32m\"C:\\Users\\emrukus\\AppData\\Local\\Temp/ipykernel_2928/674390310.py\"\u001b[1;36m, line \u001b[1;32m7\u001b[0m\n\u001b[1;33m    print(\"Discount will be \", discount).\u001b[0m\n\u001b[1;37m                                         ^\u001b[0m\n\u001b[1;31mSyntaxError\u001b[0m\u001b[1;31m:\u001b[0m invalid syntax\n"
     ]
    }
   ],
   "source": [
    "total_prize = int(input())\n",
    "if total_prize > 20000:\n",
    "    discount = total_prize * .20\n",
    "    print('Discount will be ', discount)\n",
    "elif total_prize <= 7000:\n",
    "    discount = total_prize * .05\n",
    "    print(\"Discount will be \", discount).\n",
    "else :\n",
    "    print(\"Won't be able to give any discount\")\n",
    "    "
   ]
  },
  {
   "cell_type": "code",
   "execution_count": 9,
   "id": "da4ea661",
   "metadata": {},
   "outputs": [
    {
     "name": "stdout",
     "output_type": "stream",
     "text": [
      "345987\n",
      "Kindly use a valid coupon code\n"
     ]
    }
   ],
   "source": [
    "coupon = input()\n",
    "if coupon == \"SURAJ05\":\n",
    "    print(\"You will be able to get a discount of 5%\")\n",
    "    paid_amount = 7080 - 7080*.05\n",
    "    print(\"You will be able to get one neuron with this amount\", paid_amount)\n",
    "else :\n",
    "    print(\"Kindly use a valid coupon code\")"
   ]
  },
  {
   "cell_type": "code",
   "execution_count": 10,
   "id": "f5d4d6e9",
   "metadata": {},
   "outputs": [
    {
     "name": "stdout",
     "output_type": "stream",
     "text": [
      "23\n",
      "It may take 3 months of time for transition\n"
     ]
    }
   ],
   "source": [
    "study_hour = int(input())\n",
    "if study_hour < 1:\n",
    "    print(\"It may take 8-9 months of time to make a transition\")\n",
    "elif study_hour < 4 and study_hour > 1:\n",
    "    print(\"It may take 6 months for transition\")\n",
    "elif study_hour > 10:\n",
    "    print(\"It may take 3 months of time for transition\")\n",
    "else:\n",
    "    print(\"It will be difficult\")"
   ]
  },
  {
   "cell_type": "code",
   "execution_count": 11,
   "id": "1a14e050",
   "metadata": {},
   "outputs": [
    {
     "name": "stdout",
     "output_type": "stream",
     "text": [
      "Valid\n"
     ]
    }
   ],
   "source": [
    "a = 9 \n",
    "if a == 9: print(\"Valid\")"
   ]
  },
  {
   "cell_type": "code",
   "execution_count": 12,
   "id": "59afaada",
   "metadata": {},
   "outputs": [
    {
     "name": "stdout",
     "output_type": "stream",
     "text": [
      "Enter a string to start DSA\n",
      "Enter a course name Blockchain\n",
      "Enter a service required asldkn\n",
      "Kindly connect with our team\n"
     ]
    }
   ],
   "source": [
    "s = input(\"Enter a string to start \")\n",
    "course = input(\"Enter a course name \")\n",
    "service = input(\"Enter a service required \")\n",
    "\n",
    "if s == 'oneneuron':\n",
    "    if course == 'DSA':\n",
    "        print('Yes its available under oneneuron and in multiple mode for job preparation and core concept')\n",
    "    elif course == \"Blockchain\":\n",
    "        print(\"This is not availble as of now, kindly raise your demand and we will fufill in 60 days\")\n",
    "    elif course == \"FSDS\":\n",
    "        print(\"Yes it is available, you can start learning\")\n",
    "    else:\n",
    "        print(\"This course is not available kindly raise your demand\")\n",
    "elif s == \"oneneuronservice\":\n",
    "    if service == \"courserequest\":\n",
    "        print(\"NOTE: Dear Learner, you can raise demand related to any new course, and we will fulfill in 60 days.\")\n",
    "    elif service == \"module\":\n",
    "        print(\"NOTE: Dear Learner, you can raise demand related to any new course module, and we will fulfill in 30 days.\")\n",
    "    elif service == 'doubt':\n",
    "        print(\"NOTE: Dear Learner, you can raise demand related to any doubt clearning, and we will fulfill in 24 hours.\")\n",
    "    elif service == 'workwithus':\n",
    "        print('NOTE: Dear Learner, you can raise the demand to work with our team; out HR will evaluate and get back to you in 24 hours.')\n",
    "    else :\n",
    "        print(\"Kindly provide us your feedback and we will fulfil.\")\n",
    "else: \n",
    "    print(\"Kindly connect with our team\")"
   ]
  },
  {
   "cell_type": "code",
   "execution_count": 18,
   "id": "822b541a",
   "metadata": {},
   "outputs": [
    {
     "name": "stdout",
     "output_type": "stream",
     "text": [
      "1\n",
      "2\n",
      "3\n",
      "4\n",
      "5\n",
      "6\n",
      "7\n"
     ]
    }
   ],
   "source": [
    "l = [1,2,3,4,5,6,7]\n",
    "for i in l:\n",
    "    print(i)"
   ]
  },
  {
   "cell_type": "code",
   "execution_count": 19,
   "id": "0b7ce401",
   "metadata": {},
   "outputs": [
    {
     "name": "stdout",
     "output_type": "stream",
     "text": [
      "s\n",
      "u\n",
      "r\n",
      "a\n",
      "j\n"
     ]
    }
   ],
   "source": [
    "s = \"suraj\"\n",
    "for i in s:\n",
    "    print(i)"
   ]
  },
  {
   "cell_type": "code",
   "execution_count": 20,
   "id": "baf5561f",
   "metadata": {},
   "outputs": [
    {
     "name": "stdout",
     "output_type": "stream",
     "text": [
      "1\n",
      "2\n",
      "3\n",
      "4\n",
      "5\n",
      "6\n"
     ]
    }
   ],
   "source": [
    "t = (1,2,3,4,5,6)\n",
    "for i in t:\n",
    "    print(i)"
   ]
  },
  {
   "cell_type": "code",
   "execution_count": 21,
   "id": "a63a635f",
   "metadata": {},
   "outputs": [
    {
     "name": "stdout",
     "output_type": "stream",
     "text": [
      "type of 1 <class 'int'>\n",
      "type of 4 <class 'int'>\n",
      "type of 5.6 <class 'float'>\n",
      "type of (4+7j) <class 'complex'>\n",
      "type of suraj <class 'str'>\n"
     ]
    }
   ],
   "source": [
    "l = [1,4,5.6,4+7j,'suraj']\n",
    "for i in l:\n",
    "    print(\"type of\", i,type(i))"
   ]
  },
  {
   "cell_type": "code",
   "execution_count": 22,
   "id": "a19805c0",
   "metadata": {},
   "outputs": [
    {
     "name": "stdout",
     "output_type": "stream",
     "text": [
      "3\n",
      "4\n",
      "6.5\n"
     ]
    }
   ],
   "source": [
    "l = [1,2,4.5]\n",
    "for i in l:\n",
    "    print(i+2)"
   ]
  },
  {
   "cell_type": "code",
   "execution_count": 23,
   "id": "499a9a0a",
   "metadata": {},
   "outputs": [
    {
     "name": "stdout",
     "output_type": "stream",
     "text": [
      "3\n",
      "4\n",
      "6.5\n"
     ]
    }
   ],
   "source": [
    "l = [1,2,4.5]\n",
    "l1 = []\n",
    "for i in l:\n",
    "    print(i+2)\n",
    "    l1.append(i+2)"
   ]
  },
  {
   "cell_type": "code",
   "execution_count": 24,
   "id": "3fe0bdb5",
   "metadata": {},
   "outputs": [
    {
     "data": {
      "text/plain": [
       "[3, 4, 6.5]"
      ]
     },
     "execution_count": 24,
     "metadata": {},
     "output_type": "execute_result"
    }
   ],
   "source": [
    "l1"
   ]
  },
  {
   "cell_type": "code",
   "execution_count": 25,
   "id": "ae804c91",
   "metadata": {},
   "outputs": [
    {
     "name": "stdout",
     "output_type": "stream",
     "text": [
      "2\n",
      "45\n",
      "78\n",
      "12\n"
     ]
    }
   ],
   "source": [
    "l = [2,45,78,12,'suraj', 6+7j,[3,4,5,76]]\n",
    "for i in l:\n",
    "    if type(i) == int:\n",
    "        print(i)"
   ]
  },
  {
   "cell_type": "code",
   "execution_count": 26,
   "id": "009c42cd",
   "metadata": {},
   "outputs": [
    {
     "name": "stdout",
     "output_type": "stream",
     "text": [
      "2\n",
      "45\n",
      "78\n",
      "12\n",
      "3\n",
      "4\n",
      "5\n",
      "76\n"
     ]
    }
   ],
   "source": [
    "l = [2,45,78,12,'suraj', 6+7j,[3,4,5,76]]\n",
    "for i in l:\n",
    "    if type(i) == int:\n",
    "        print(i)\n",
    "    elif type(i) == list:\n",
    "        for j in i:\n",
    "            if type(j) == int:\n",
    "                print(j)"
   ]
  },
  {
   "cell_type": "code",
   "execution_count": 27,
   "id": "396c6156",
   "metadata": {},
   "outputs": [
    {
     "data": {
      "text/plain": [
       "range(0, 4)"
      ]
     },
     "execution_count": 27,
     "metadata": {},
     "output_type": "execute_result"
    }
   ],
   "source": [
    "range (4)"
   ]
  },
  {
   "cell_type": "code",
   "execution_count": 28,
   "id": "d37d307d",
   "metadata": {},
   "outputs": [
    {
     "name": "stdout",
     "output_type": "stream",
     "text": [
      "Index 0 for an element 2\n",
      "Index 1 for an element 45\n",
      "Index 2 for an element 78\n",
      "Index 3 for an element 12\n",
      "Index 4 for an element suraj\n",
      "Index 5 for an element (6+7j)\n",
      "Index 6 for an element [3, 4, 5, 76]\n"
     ]
    }
   ],
   "source": [
    "#Ques: Try to print index of all the element\n",
    "l = [2,45,78,12,'suraj', 6+7j,[3,4,5,76]]\n",
    "for i in range(len(l)):\n",
    "    print(\"Index\", i , \"for an element\" , l[i])"
   ]
  },
  {
   "cell_type": "code",
   "execution_count": 29,
   "id": "a2e9d622",
   "metadata": {},
   "outputs": [
    {
     "name": "stdout",
     "output_type": "stream",
     "text": [
      "(0, 2)\n",
      "(1, 45)\n",
      "(2, 78)\n",
      "(3, 12)\n",
      "(4, 'suraj')\n",
      "(5, (6+7j))\n",
      "(6, [3, 4, 5, 76])\n"
     ]
    }
   ],
   "source": [
    "for i in enumerate(l):\n",
    "    print(i)"
   ]
  },
  {
   "cell_type": "code",
   "execution_count": null,
   "id": "f75880ef",
   "metadata": {},
   "outputs": [],
   "source": [
    "#Ques: try to extract all the list of char if element is string\n",
    "l = [2,45,78,12,'suraj','sdfdfg', 6+7j,[3,4,5,76]]\n",
    "for i in l:\n",
    "    if type(i) == str:\n",
    "        l1 = []\n",
    "        for j in i:\n",
    "            l1.append(j)\n",
    "        print(l1)"
   ]
  },
  {
   "cell_type": "code",
   "execution_count": null,
   "id": "8186def9",
   "metadata": {},
   "outputs": [],
   "source": [
    "#Ques: try to return a list after doing a square of all the int element\n",
    "l = [2,45,78,12,'suraj', 'kumar', 6+7j,[3,4,5,76]]\n",
    "l2 = []\n",
    "for i in l:\n",
    "    if type(i) == int:\n",
    "        l2.append(i**2)"
   ]
  },
  {
   "cell_type": "code",
   "execution_count": null,
   "id": "547e3d75",
   "metadata": {},
   "outputs": [],
   "source": [
    "l2"
   ]
  },
  {
   "cell_type": "code",
   "execution_count": null,
   "id": "05be03e6",
   "metadata": {},
   "outputs": [],
   "source": [
    "l = ['name', 'emailid', 'phoneno', 'address']\n",
    "for i in l:\n",
    "    print(i+'suraj')"
   ]
  },
  {
   "cell_type": "code",
   "execution_count": null,
   "id": "1a9d95a5",
   "metadata": {},
   "outputs": [],
   "source": [
    "s = 'ineuron'\n",
    "for i in s:\n",
    "    print(i)"
   ]
  },
  {
   "cell_type": "code",
   "execution_count": null,
   "id": "c497b6cd",
   "metadata": {},
   "outputs": [],
   "source": [
    " l"
   ]
  },
  {
   "cell_type": "code",
   "execution_count": null,
   "id": "49b3b3a8",
   "metadata": {},
   "outputs": [],
   "source": [
    "for i in l:\n",
    "    print(i)\n",
    "else:\n",
    "    print('if for loop is going to complete itself then it will come to else')"
   ]
  },
  {
   "cell_type": "code",
   "execution_count": null,
   "id": "40fd1a26",
   "metadata": {},
   "outputs": [],
   "source": [
    "l"
   ]
  },
  {
   "cell_type": "code",
   "execution_count": null,
   "id": "6f8f5850",
   "metadata": {},
   "outputs": [],
   "source": [
    "for i in l:\n",
    "    if i == 'phoneno':\n",
    "        break\n",
    "    print(i)\n",
    "else:\n",
    "    print('Check this statement')"
   ]
  },
  {
   "cell_type": "code",
   "execution_count": null,
   "id": "70178910",
   "metadata": {},
   "outputs": [],
   "source": [
    "s = 'suraj'\n",
    "for i in s:\n",
    "    if i == 'a':\n",
    "        break\n",
    "    print(i)\n",
    "else:\n",
    "    print('else will not work when break statement used to break for loop')"
   ]
  },
  {
   "cell_type": "code",
   "execution_count": null,
   "id": "3f989b6b",
   "metadata": {},
   "outputs": [],
   "source": [
    "a = 1\n",
    "while a < 6:\n",
    "    print(a)\n",
    "    a = a+1"
   ]
  },
  {
   "cell_type": "code",
   "execution_count": null,
   "id": "3e20679b",
   "metadata": {},
   "outputs": [],
   "source": [
    "a = 1\n",
    "while a < 5:\n",
    "    print(a)\n",
    "    if a == 4:\n",
    "        break\n",
    "    a = a+1"
   ]
  },
  {
   "cell_type": "code",
   "execution_count": null,
   "id": "31a227d5",
   "metadata": {},
   "outputs": [],
   "source": [
    "a = 1\n",
    "while a < 5:\n",
    "    print(a)\n",
    "    if a == 3:\n",
    "        continue\n",
    "    a = a+1"
   ]
  },
  {
   "cell_type": "markdown",
   "id": "9be485eb",
   "metadata": {},
   "source": [
    "\"Continue\" statement immediately give control to a loop and it will not execute whatever we have written after continue statement."
   ]
  },
  {
   "cell_type": "code",
   "execution_count": null,
   "id": "1f34fbd9",
   "metadata": {},
   "outputs": [],
   "source": [
    "#How to stop the infinite loop from above code\n",
    "a = 1\n",
    "while a < 5:\n",
    "    print(a)\n",
    "    a = a+1\n",
    "    if a == 3:\n",
    "        continue"
   ]
  },
  {
   "cell_type": "code",
   "execution_count": null,
   "id": "413c52a8",
   "metadata": {},
   "outputs": [],
   "source": [
    "while a < 5:\n",
    "    pass"
   ]
  },
  {
   "cell_type": "code",
   "execution_count": null,
   "id": "8095ca28",
   "metadata": {},
   "outputs": [],
   "source": [
    "while a < 4:\n",
    "    break"
   ]
  },
  {
   "cell_type": "code",
   "execution_count": null,
   "id": "b6ad0b4d",
   "metadata": {},
   "outputs": [],
   "source": [
    "a = 1\n",
    "while a < 4:\n",
    "    continue"
   ]
  },
  {
   "cell_type": "code",
   "execution_count": null,
   "id": "64761681",
   "metadata": {},
   "outputs": [],
   "source": [
    "list(range(6))"
   ]
  },
  {
   "cell_type": "code",
   "execution_count": null,
   "id": "32f7c55c",
   "metadata": {},
   "outputs": [],
   "source": [
    "list(range(0,7))"
   ]
  },
  {
   "cell_type": "code",
   "execution_count": null,
   "id": "beb26f28",
   "metadata": {},
   "outputs": [],
   "source": [
    "list(range(4,20))"
   ]
  },
  {
   "cell_type": "code",
   "execution_count": null,
   "id": "9027544d",
   "metadata": {},
   "outputs": [],
   "source": [
    "list(range(3,30,2))"
   ]
  },
  {
   "cell_type": "code",
   "execution_count": null,
   "id": "169d4356",
   "metadata": {},
   "outputs": [],
   "source": [
    "list(range(3,10,-1))"
   ]
  },
  {
   "cell_type": "code",
   "execution_count": null,
   "id": "67f721f1",
   "metadata": {},
   "outputs": [],
   "source": [
    "list(range(10,6,-1))"
   ]
  },
  {
   "cell_type": "code",
   "execution_count": null,
   "id": "15682b20",
   "metadata": {},
   "outputs": [],
   "source": [
    "list(range(10,-6,-2))"
   ]
  },
  {
   "cell_type": "code",
   "execution_count": null,
   "id": "7e4c154d",
   "metadata": {},
   "outputs": [],
   "source": [
    "for i in range(7):\n",
    "    print(i)"
   ]
  },
  {
   "cell_type": "code",
   "execution_count": null,
   "id": "b242739e",
   "metadata": {},
   "outputs": [],
   "source": [
    "for i in range(10,-6,-2):\n",
    "    print(i)"
   ]
  },
  {
   "cell_type": "code",
   "execution_count": 15,
   "id": "837a11ca",
   "metadata": {},
   "outputs": [
    {
     "name": "stdout",
     "output_type": "stream",
     "text": [
      "? \r\n",
      "? ? \r\n",
      "? ? ? \r\n",
      "? ? ? ? \r\n",
      "? ? ? ? ? \r\n"
     ]
    }
   ],
   "source": [
    "#Print triangular * pyramid\n",
    "n = 5\n",
    "for i in range(0,n):\n",
    "    for j in range(0,i+1):\n",
    "        print(\"? \", end = '')\n",
    "    print('\\r')"
   ]
  },
  {
   "cell_type": "code",
   "execution_count": null,
   "id": "80985035",
   "metadata": {},
   "outputs": [],
   "source": [
    "l = [1,2,3,4,5,6,7,78]\n",
    "for i in l:\n",
    "    print(i)"
   ]
  },
  {
   "cell_type": "code",
   "execution_count": null,
   "id": "269e7442",
   "metadata": {},
   "outputs": [],
   "source": [
    "t = (1,2,3,4,5,67,7)\n",
    "for i in range(len(t)):\n",
    "    print(\"At index\", i, \"value in tuple is\", t[i])"
   ]
  },
  {
   "cell_type": "code",
   "execution_count": null,
   "id": "f6ef8ec4",
   "metadata": {},
   "outputs": [],
   "source": [
    "t = (1,2,3,4,5,67,7)\n",
    "for i in range(len(t)-1,-1,-1):\n",
    "    print(t[i])"
   ]
  },
  {
   "cell_type": "code",
   "execution_count": null,
   "id": "dd673634",
   "metadata": {},
   "outputs": [],
   "source": [
    "d = {'a': 'assfdf', 'b': 'qwwefr', 'c': [1,2,3,4,5,6], 'd': (5,6,7,8,9), 'e': 'suraj'}"
   ]
  },
  {
   "cell_type": "code",
   "execution_count": null,
   "id": "544344dc",
   "metadata": {},
   "outputs": [],
   "source": [
    "d[]"
   ]
  },
  {
   "cell_type": "code",
   "execution_count": null,
   "id": "c6e99a4f",
   "metadata": {},
   "outputs": [],
   "source": [
    "for i in d:\n",
    "    print(i, d[i])"
   ]
  },
  {
   "cell_type": "code",
   "execution_count": null,
   "id": "b10f667f",
   "metadata": {},
   "outputs": [],
   "source": [
    "for i in d.items():\n",
    "    print(i)"
   ]
  },
  {
   "cell_type": "code",
   "execution_count": null,
   "id": "6cbefbe9",
   "metadata": {},
   "outputs": [],
   "source": [
    "s = {2,13,45,45,8,68,68,2,2,312,314,2353,4645,7}\n",
    "print(s)"
   ]
  },
  {
   "cell_type": "code",
   "execution_count": null,
   "id": "faceb2c6",
   "metadata": {},
   "outputs": [],
   "source": [
    "for i in s:\n",
    "    print(i)"
   ]
  },
  {
   "cell_type": "code",
   "execution_count": null,
   "id": "fc065085",
   "metadata": {},
   "outputs": [],
   "source": [
    "s = \"This is a basic python class\"\n",
    "count = 0\n",
    "for i in s:\n",
    "    #count = count + 1\n",
    "    count+=1\n",
    "print(count)"
   ]
  },
  {
   "cell_type": "code",
   "execution_count": null,
   "id": "60c40066",
   "metadata": {},
   "outputs": [],
   "source": [
    "s[::-1]"
   ]
  },
  {
   "cell_type": "code",
   "execution_count": null,
   "id": "42bed6ce",
   "metadata": {},
   "outputs": [],
   "source": [
    "for i in range(len(s)-1,-1,-1):\n",
    "    print(s[i])"
   ]
  },
  {
   "cell_type": "code",
   "execution_count": null,
   "id": "9d9295ac",
   "metadata": {},
   "outputs": [],
   "source": [
    "i = len(s)-1\n",
    "while i >= 0:\n",
    "    print(s[i], end='')\n",
    "    i = i-1"
   ]
  },
  {
   "cell_type": "code",
   "execution_count": null,
   "id": "18fa9c9b",
   "metadata": {},
   "outputs": [],
   "source": [
    "s = 'iNeuron'\n",
    "v = 'AaEeIiOoUu'\n",
    "for i in s:\n",
    "    if i in v:\n",
    "        print(i ,\"is vowel\")\n",
    "    else:\n",
    "        print(i ,\"is not a vowel\")"
   ]
  },
  {
   "cell_type": "code",
   "execution_count": null,
   "id": "904ec229",
   "metadata": {},
   "outputs": [],
   "source": [
    "#To check whether a word is Palindrome or not\n",
    "s = input()\n",
    "if s == s[::-1]:\n",
    "    print(s,'is a Palindrome word')\n",
    "else:\n",
    "    print(s,'is not a Palindrome word')"
   ]
  },
  {
   "cell_type": "code",
   "execution_count": null,
   "id": "4ac76f8b",
   "metadata": {},
   "outputs": [],
   "source": [
    "d = {'India': \"IN\",\n",
    "    'Canada': \".CA\",\n",
    "    'China': \"CH\",\n",
    "    'United State': \"US\"}\n",
    "'India' in d"
   ]
  },
  {
   "cell_type": "code",
   "execution_count": null,
   "id": "0f4a2757",
   "metadata": {},
   "outputs": [],
   "source": [
    "l_greater = []\n",
    "l_smaller = []\n",
    "for i in d:\n",
    "    if len(i)<=5:\n",
    "        l_smaller.append(i)\n",
    "    else:\n",
    "        l_greater.append(i)"
   ]
  },
  {
   "cell_type": "code",
   "execution_count": null,
   "id": "4de2b362",
   "metadata": {},
   "outputs": [],
   "source": [
    "l_smaller"
   ]
  },
  {
   "cell_type": "code",
   "execution_count": null,
   "id": "33546137",
   "metadata": {},
   "outputs": [],
   "source": [
    "l_greater"
   ]
  },
  {
   "cell_type": "code",
   "execution_count": null,
   "id": "faf38e53",
   "metadata": {},
   "outputs": [],
   "source": [
    "d1 = {'ineuron':{\n",
    "                    'a':14,\n",
    "                    'b':10,\n",
    "                    'c':4\n",
    "                },\n",
    "       'course':{\n",
    "                      'd':45,\n",
    "                      'e':34,\n",
    "                      'f':1\n",
    "                }\n",
    "     }\n",
    "for i in d1.values():\n",
    "    print(max(i.values()))"
   ]
  },
  {
   "cell_type": "code",
   "execution_count": 14,
   "id": "2e683ef7",
   "metadata": {},
   "outputs": [
    {
     "name": "stdout",
     "output_type": "stream",
     "text": [
      "Final list is [14, 10, 4, 45, 34, 1, 34, 2, 24, 56, 3, 5, 6, 7, 45, 34, 2]\n",
      "Maximum number from above list is 56\n"
     ]
    }
   ],
   "source": [
    "d = {'ineuron':{'a':14,'b':10,'c':4},'course':{'d':45,'e':34,'f':1},\n",
    "                  'g':34,'h':[2,24,56,3,5,6,7],'i':(45,34,2),'k':'suraj', 'm': 354+7j}\n",
    "\n",
    "r = []\n",
    "for i in d:\n",
    "    if type(d[i]) == int:\n",
    "        r.append(d[i])\n",
    "    elif type(d[i]) == str or type(d[i]) == complex:\n",
    "        continue\n",
    "    elif type(d[i]) == dict:\n",
    "        r.extend(list(d[i].values()))\n",
    "    else:\n",
    "        r.extend(list(d[i]))\n",
    "print(\"Final list is\", r)\n",
    "print(\"Maximum number from above list is\",max(r))"
   ]
  },
  {
   "cell_type": "code",
   "execution_count": null,
   "id": "50b25605",
   "metadata": {},
   "outputs": [],
   "source": []
  },
  {
   "cell_type": "code",
   "execution_count": null,
   "id": "f72ac33c",
   "metadata": {},
   "outputs": [],
   "source": []
  },
  {
   "cell_type": "code",
   "execution_count": null,
   "id": "64caa2b7",
   "metadata": {},
   "outputs": [],
   "source": []
  }
 ],
 "metadata": {
  "kernelspec": {
   "display_name": "Python 3 (ipykernel)",
   "language": "python",
   "name": "python3"
  },
  "language_info": {
   "codemirror_mode": {
    "name": "ipython",
    "version": 3
   },
   "file_extension": ".py",
   "mimetype": "text/x-python",
   "name": "python",
   "nbconvert_exporter": "python",
   "pygments_lexer": "ipython3",
   "version": "3.9.7"
  }
 },
 "nbformat": 4,
 "nbformat_minor": 5
}
