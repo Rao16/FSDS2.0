{
 "cells": [
  {
   "cell_type": "markdown",
   "id": "d21be6a7",
   "metadata": {},
   "source": [
    "1. In the below elements which of them are values or an expression? eg:- values can be\n",
    "   integer or string and expressions will be mathematical operators.\n",
    "   \n",
    "Ans: Values are: 'hello', -87.8, 6\n",
    "    \n",
    "   Operator are: *, -, /, +\n"
   ]
  },
  {
   "cell_type": "markdown",
   "id": "e6a32411",
   "metadata": {},
   "source": [
    "2. What is the difference between string and variable?\n",
    "\n",
    "Ans: String: It is a combination of one or more alphabetic characterers quoted in either single or double quotation marks. Python has built in string class i.e., str.\n",
    "\n",
    "   Variable: It is a symbolic name that refers to collection or set of data(objects). Ex: n=300, where n is a symbolic name of variable and 300 assigned to it."
   ]
  },
  {
   "cell_type": "markdown",
   "id": "27ee4e11",
   "metadata": {},
   "source": [
    "3. Describe three different data types.\n",
    "\n",
    "Ans: int : Integer is a whole number which is positive or negative as well but without decimals numbers. Ex = 2,3,5,745,-34,-12 these all are comes under integer data types.\n",
    "\n",
    "float : This data type contains decimals number either positive or negative as well. Ex = 12.34,-3.4,0.23\n",
    "\n",
    "str : String data type is collection of alphabetic characters. You enclose this string either into single or double quotation marks."
   ]
  },
  {
   "cell_type": "markdown",
   "id": "24a71624",
   "metadata": {},
   "source": [
    "4. What is an expression made up of? What do all expressions do?\n",
    "\n",
    "Ans: Expression : It is made up of combination of mathematical operators and operands. Ex: a + b - 5\n",
    "Expression in python produces some values or result interpreted by python iterpreter."
   ]
  },
  {
   "cell_type": "markdown",
   "id": "9f24ec28",
   "metadata": {},
   "source": [
    "5. This assignment statements, like spam = 10. What is the difference between an expression and a statement?\n",
    "\n",
    "Ans: An Expression is a combination of values, variables, operators and fucntions calls that always produces or returns a result value. Ex: x = 4, y = 3, z = x + y\n",
    "In above example, x,y and z are variables, 4 and 3 are values, whereas +,= are operators.\n",
    "\n",
    "Statement: Any instruction that a python interpreter can execute (carry out) is called Statement.\n",
    "In other simple words, a statement is the smallest executable unit of code that has an effect, like creating a variable or displaying a value.\n",
    "Ex: x = 3 print(x)  \n",
    "Here the first line is an assignment statement that gives values to x. The second line is print statment that displays value of x."
   ]
  },
  {
   "cell_type": "markdown",
   "id": "e621a2f5",
   "metadata": {},
   "source": [
    "6. After running the following code, what does the variable bacon contain?\n",
    "bacon = 22\n",
    "\n",
    "bacon + 1\n",
    "\n",
    "Ans: Variable bacon will contain 23 \n"
   ]
  },
  {
   "cell_type": "markdown",
   "id": "c1d16890",
   "metadata": {},
   "source": [
    "7. What should the values of the following two terms be?\n",
    "'spam' + 'spamspam'\n",
    "\n",
    "'spam' * 3\n",
    "\n",
    "Ans: spamspamspam"
   ]
  },
  {
   "cell_type": "markdown",
   "id": "a7fdff93",
   "metadata": {},
   "source": [
    "8. Why is eggs a valid variable name while 100 is invalid?\n",
    "\n",
    "Ans: The reason behind why 100 is inavalid variable name because variable names cannot begin with numbers."
   ]
  },
  {
   "cell_type": "markdown",
   "id": "36677956",
   "metadata": {},
   "source": [
    "9. What three functions can be used to get the integer, floating-point number, or string version of a value?\n",
    "\n",
    "Ans: int(), float() and str() functions used to get the integer, floating-point number and string version of a value."
   ]
  },
  {
   "cell_type": "markdown",
   "id": "d2e9cca6",
   "metadata": {},
   "source": [
    "10. Why does this expression cause an error? How can you fix it?\n",
    "\n",
    "'I have eaten ' + 99 + ' burritos.'\n",
    "\n",
    "Ans: In above expression it is concatenating integer number to string. It will only concatenate string to string.\n",
    "    So to fix this we have to do the type casting making integer number into string value.\n",
    "    Ex: 'I have eaten ' + str(99) + ' burritos.'\n",
    "    Now the above example will work."
   ]
  },
  {
   "cell_type": "code",
   "execution_count": null,
   "id": "183d2983",
   "metadata": {},
   "outputs": [],
   "source": []
  }
 ],
 "metadata": {
  "kernelspec": {
   "display_name": "Python 3 (ipykernel)",
   "language": "python",
   "name": "python3"
  },
  "language_info": {
   "codemirror_mode": {
    "name": "ipython",
    "version": 3
   },
   "file_extension": ".py",
   "mimetype": "text/x-python",
   "name": "python",
   "nbconvert_exporter": "python",
   "pygments_lexer": "ipython3",
   "version": "3.9.7"
  }
 },
 "nbformat": 4,
 "nbformat_minor": 5
}
