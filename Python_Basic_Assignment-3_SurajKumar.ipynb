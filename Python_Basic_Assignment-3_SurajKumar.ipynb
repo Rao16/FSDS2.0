{
 "cells": [
  {
   "cell_type": "markdown",
   "id": "ef375833",
   "metadata": {},
   "source": [
    "1. Why are functions advantageous to have in your programs?\n",
    "\n",
    "Ans: There are several reasons that functions are advantageous in your program:\n",
    "\n",
    "Reusability: Functions allow you to write a block of code that can be reused multiple times in your program without having to write the same code over and over again. This can save a lot of time and effort, and also helps to reduce the likelihood of errors.\n",
    "\n",
    "Modularization: Functions help you to break down a large and complex program into smaller, more manageable parts. This makes the code easier to read, understand, and maintain.\n",
    "\n",
    "Overall, using functions in your program can make your code more efficient, modular, maintainable and easier to understand."
   ]
  },
  {
   "cell_type": "markdown",
   "id": "688a7497",
   "metadata": {},
   "source": [
    "2. When does the code in a function run: when it's specified or when it's called?\n",
    "\n",
    "Ans: The code inside a function runs when the function is called, not when it is specified.\n",
    "\n",
    "Ex:  def print_message():\n",
    "\n",
    "        print(\"Hello World!\")\n",
    "        \n",
    "In the above case, the code inside the 'print_message()' function will not be executed until we call the function out of the program like this:\n",
    "\n",
    "print_message()"
   ]
  },
  {
   "cell_type": "markdown",
   "id": "f133d4de",
   "metadata": {},
   "source": [
    "3. What statement creates a function?\n",
    "\n",
    "Ans: The 'def' statement is used to create a function.\n",
    "\n",
    "The basic syntax of a function definition in Python is as follows:\n",
    "\n",
    "def function_name(parameters):\n",
    "\n",
    "    # code block for the function\n",
    "    \n",
    "    # This can contain one or more statements\n",
    "    \n",
    "    return value"
   ]
  },
  {
   "cell_type": "markdown",
   "id": "dcb7b486",
   "metadata": {},
   "source": [
    "4. What is the difference between a function and a function call?\n",
    "\n",
    "Ans: A function is a block of code that performs a specific task or set of tasks, and may take input parameters and/or return output values.\n",
    "\n",
    "A function call, on the other hand, is the act of actually invoking or executing the function with specific input parameters in a program."
   ]
  },
  {
   "cell_type": "code",
   "execution_count": 3,
   "id": "dab8adbf",
   "metadata": {},
   "outputs": [
    {
     "name": "stdout",
     "output_type": "stream",
     "text": [
      "5 10\n",
      "5\n"
     ]
    },
    {
     "ename": "NameError",
     "evalue": "name 'y' is not defined",
     "output_type": "error",
     "traceback": [
      "\u001b[1;31m---------------------------------------------------------------------------\u001b[0m",
      "\u001b[1;31mNameError\u001b[0m                                 Traceback (most recent call last)",
      "\u001b[1;32m~\\AppData\\Local\\Temp/ipykernel_27040/408226721.py\u001b[0m in \u001b[0;36m<module>\u001b[1;34m\u001b[0m\n\u001b[0;32m     15\u001b[0m \u001b[0mmy_function\u001b[0m\u001b[1;33m(\u001b[0m\u001b[1;33m)\u001b[0m\u001b[1;33m\u001b[0m\u001b[1;33m\u001b[0m\u001b[0m\n\u001b[0;32m     16\u001b[0m \u001b[0mprint\u001b[0m\u001b[1;33m(\u001b[0m\u001b[0mx\u001b[0m\u001b[1;33m)\u001b[0m  \u001b[1;31m# Accessible from global scope\u001b[0m\u001b[1;33m\u001b[0m\u001b[1;33m\u001b[0m\u001b[0m\n\u001b[1;32m---> 17\u001b[1;33m \u001b[0mprint\u001b[0m\u001b[1;33m(\u001b[0m\u001b[0my\u001b[0m\u001b[1;33m)\u001b[0m  \u001b[1;31m# Raises an error, y is not defined in global scope\u001b[0m\u001b[1;33m\u001b[0m\u001b[1;33m\u001b[0m\u001b[0m\n\u001b[0m",
      "\u001b[1;31mNameError\u001b[0m: name 'y' is not defined"
     ]
    }
   ],
   "source": [
    "'''5. How many global scopes are there in a Python program? How many local scopes?\n",
    "\n",
    "Ans: There is only one global scopes in python., which is created when the program starts executing.All variables and functions defined outside of any function or class are part of the global scope.\n",
    "\n",
    "On the other hand, any variables defined within a function are part of the local scope for that function, and are not accessible outside of the function.\n",
    "\n",
    "Ex: '''\n",
    "\n",
    "x = 5  # Global scope\n",
    "\n",
    "def my_function():\n",
    "    y = 10  # Local scope for my_function\n",
    "    print(x, y)\n",
    "\n",
    "my_function()\n",
    "print(x)  # Accessible from global scope\n",
    "print(y)  # Raises an error, y is not defined in global scope\n"
   ]
  },
  {
   "cell_type": "code",
   "execution_count": 2,
   "id": "04e3b8b6",
   "metadata": {},
   "outputs": [
    {
     "name": "stdout",
     "output_type": "stream",
     "text": [
      "5\n"
     ]
    },
    {
     "ename": "NameError",
     "evalue": "name 'x' is not defined",
     "output_type": "error",
     "traceback": [
      "\u001b[1;31m---------------------------------------------------------------------------\u001b[0m",
      "\u001b[1;31mNameError\u001b[0m                                 Traceback (most recent call last)",
      "\u001b[1;32m~\\AppData\\Local\\Temp/ipykernel_27040/2415224651.py\u001b[0m in \u001b[0;36m<module>\u001b[1;34m\u001b[0m\n\u001b[0;32m     12\u001b[0m \u001b[0mresult\u001b[0m \u001b[1;33m=\u001b[0m \u001b[0mmy_function\u001b[0m\u001b[1;33m(\u001b[0m\u001b[1;33m)\u001b[0m\u001b[1;33m\u001b[0m\u001b[1;33m\u001b[0m\u001b[0m\n\u001b[0;32m     13\u001b[0m \u001b[0mprint\u001b[0m\u001b[1;33m(\u001b[0m\u001b[0mresult\u001b[0m\u001b[1;33m)\u001b[0m  \u001b[1;31m# Output: 5\u001b[0m\u001b[1;33m\u001b[0m\u001b[1;33m\u001b[0m\u001b[0m\n\u001b[1;32m---> 14\u001b[1;33m \u001b[0mprint\u001b[0m\u001b[1;33m(\u001b[0m\u001b[0mx\u001b[0m\u001b[1;33m)\u001b[0m  \u001b[1;31m# Raises an error, x is not defined in global scope\u001b[0m\u001b[1;33m\u001b[0m\u001b[1;33m\u001b[0m\u001b[0m\n\u001b[0m\u001b[0;32m     15\u001b[0m \u001b[1;33m\u001b[0m\u001b[0m\n",
      "\u001b[1;31mNameError\u001b[0m: name 'x' is not defined"
     ]
    }
   ],
   "source": [
    "'''6. What happens to variables in a local scope when the function call returns?\n",
    "\n",
    "Ans: When a function call returns in a Python program, the local scope created for that function is destroyed, and any variables defined in that scope are lost. \n",
    "    This means that any values assigned to those variables during the function call are no longer accessible outside of the function.\n",
    "    \n",
    "Ex:'''\n",
    "\n",
    "def my_function():\n",
    "    x = 5  # Local variable\n",
    "    return x\n",
    "\n",
    "result = my_function()\n",
    "print(result)  # Output: 5\n",
    "print(x)  # Raises an error, x is not defined in global scope\n",
    "    "
   ]
  },
  {
   "cell_type": "code",
   "execution_count": 5,
   "id": "fdfc7bb3",
   "metadata": {},
   "outputs": [
    {
     "name": "stdout",
     "output_type": "stream",
     "text": [
      "7\n",
      "16\n"
     ]
    }
   ],
   "source": [
    "'''7. What is the concept of a return value? Is it possible to have a return value in an expression?\n",
    "\n",
    "Ans: A 'return' value is the value that a function returns to the caller when it completes its execution. \n",
    "When a function is called, it may perform some computation or operation and then return a value that can be used by the calling code.\n",
    "\n",
    "For Ex: '''\n",
    "\n",
    "def add_number(a,b):\n",
    "    sum = a+b\n",
    "    return sum\n",
    "\n",
    "result = add_number(3,4)\n",
    "print(result)  #Output 7\n",
    "\n",
    "'''It is also possible to have a return value in an expression.\n",
    "In Python, the return keyword can be used inside an expression to return a value directly without assigning it to a variable.\n",
    "\n",
    "For example:'''\n",
    "\n",
    "def double_number(num):\n",
    "    return num*2\n",
    "\n",
    "result = double_number(5) + double_number(3)\n",
    "print(result) #Output 16"
   ]
  },
  {
   "cell_type": "code",
   "execution_count": 6,
   "id": "0c14b179",
   "metadata": {},
   "outputs": [
    {
     "name": "stdout",
     "output_type": "stream",
     "text": [
      "Hello World!!\n",
      "None\n"
     ]
    }
   ],
   "source": [
    "'''8. If a function does not have a return statement, what is the return value of a call to that function?\n",
    "\n",
    "Ans: If a function in Python does not have a return statement, the return value of a call to that function is None.\n",
    "\n",
    "For example, '''\n",
    "\n",
    "def print_hello():\n",
    "    print(\"Hello World!!\")\n",
    "\n",
    "result = print_hello()\n",
    "print(result)  # Output: None"
   ]
  },
  {
   "cell_type": "code",
   "execution_count": 7,
   "id": "67af639e",
   "metadata": {},
   "outputs": [
    {
     "name": "stdout",
     "output_type": "stream",
     "text": [
      "10\n"
     ]
    }
   ],
   "source": [
    "'''9. How do you make a function variable refer to the global variable?\n",
    "\n",
    "Ans: If you have a variable with the same name in both the global scope and a local scope (such as within a function), the local variable will take precedence and shadow the global variable.\n",
    "\n",
    "However, you can use the 'global' keyword to indicate that a variable within a function should refer to the global variable with the same name.\n",
    "\n",
    "Here's an example:'''\n",
    "\n",
    "x = 5  # Global variable\n",
    "\n",
    "def my_function():\n",
    "    global x\n",
    "    x = 10 # Changes the value of the global variable\n",
    "    \n",
    "my_function()\n",
    "print(x)   # Output: 10"
   ]
  },
  {
   "cell_type": "markdown",
   "id": "3ce44d8a",
   "metadata": {},
   "source": [
    "10. What is the data type of None?\n",
    "\n",
    "Ans: The data type of 'None' is 'NoneType', which is a built-in data type in Python that has only one possible value, which is None. This means that None is not the same as an empty string (''), zero (0), or any other value."
   ]
  },
  {
   "cell_type": "markdown",
   "id": "b94dd590",
   "metadata": {},
   "source": [
    "11. What does the sentence import are allyourpetsnamederic do?\n",
    "\n",
    "Ans: The sentence \"import are allyourpetsnamederic\" is not a valid Python statement and would result in a 'ModuleNotFoundError' at runtime."
   ]
  },
  {
   "cell_type": "markdown",
   "id": "0684617f",
   "metadata": {},
   "source": [
    "12. If you had a bacon() feature in a spam module, what would you call it after importing spam?\n",
    "\n",
    "Ans: \n",
    "If you had a 'bacon()' function in a spam module and you imported the 'spam' module in your Python program, you could call the 'bacon()' function using the following syntax:\n",
    "\n",
    "import spam\n",
    "\n",
    "spam.bacon()"
   ]
  },
  {
   "cell_type": "code",
   "execution_count": 9,
   "id": "ba450e7e",
   "metadata": {},
   "outputs": [
    {
     "name": "stdout",
     "output_type": "stream",
     "text": [
      "Cannot divide by zero!\n"
     ]
    }
   ],
   "source": [
    "'''13. What can you do to save a programme from crashing if it encounters an error?\n",
    "\n",
    "Ans: To save a program from crashing if it encounters an error, we can use exception handling in Python. \n",
    "    Exception handling allows you to handle errors and other exceptional events that occur during program execution and prevent them from causing the program to crash.\n",
    "    \n",
    "We can use the 'try' and 'except' statements to handle exceptions. \n",
    "The try statement contains the code that might raise an exception, while the except statement specifies what should happen if an exception is raised. \n",
    "\n",
    "Here's an example: '''\n",
    "\n",
    "try:\n",
    "    # code that might raise an exception.\n",
    "    x = 10 / 0  # this will raise a ZeroDivisionError\n",
    "\n",
    "except ZeroDivisionError:\n",
    "    # Code to handle the exception\n",
    "    print(\"Cannot divide by zero!\")\n",
    "    "
   ]
  },
  {
   "cell_type": "code",
   "execution_count": null,
   "id": "3a05fa72",
   "metadata": {},
   "outputs": [],
   "source": []
  }
 ],
 "metadata": {
  "kernelspec": {
   "display_name": "Python 3 (ipykernel)",
   "language": "python",
   "name": "python3"
  },
  "language_info": {
   "codemirror_mode": {
    "name": "ipython",
    "version": 3
   },
   "file_extension": ".py",
   "mimetype": "text/x-python",
   "name": "python",
   "nbconvert_exporter": "python",
   "pygments_lexer": "ipython3",
   "version": "3.9.7"
  }
 },
 "nbformat": 4,
 "nbformat_minor": 5
}
